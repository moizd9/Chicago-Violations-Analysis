{
  "nbformat": 4,
  "nbformat_minor": 0,
  "metadata": {
    "colab": {
      "provenance": []
    },
    "kernelspec": {
      "name": "python3",
      "display_name": "Python 3"
    },
    "language_info": {
      "name": "python"
    }
  },
  "cells": [
    {
      "cell_type": "code",
      "execution_count": 42,
      "metadata": {
        "id": "1qe3b25Qb3LX"
      },
      "outputs": [],
      "source": [
        "import pandas as pd\n",
        "import numpy as np\n",
        "import matplotlib.pyplot as plt\n",
        "import seaborn as sns"
      ]
    },
    {
      "cell_type": "markdown",
      "source": [
        "*1*) Read the datasets"
      ],
      "metadata": {
        "id": "crZGBVq6cl4v"
      }
    },
    {
      "cell_type": "code",
      "source": [
        "file_path = \"/content/chicago_violations (1).csv\"\n",
        "df_chicago = pd.read_csv(file_path)\n",
        "df_chicago.head()"
      ],
      "metadata": {
        "colab": {
          "base_uri": "https://localhost:8080/",
          "height": 566
        },
        "id": "BN1VUeHicjXP",
        "outputId": "789fcaf3-6990-4f4a-8abf-262e2a229dca"
      },
      "execution_count": 43,
      "outputs": [
        {
          "output_type": "execute_result",
          "data": {
            "text/plain": [
              "                                         ID DOCKET NUMBER   NOV NUMBER  \\\n",
              "0  9ed845888ab5e3bc6516adebba3319346b173012    23BT00101A   22P0675219   \n",
              "1  b6df42910398cd4144f06d4ae36a25681848146b    15BT03446A   15WO442772   \n",
              "2  de16ff67b156537113e2e7ecb1d18044e268aa3a    22BT02866A   22T0668607   \n",
              "3  ff933be74d08113f113a3ba84fa0f2652a017991    21BT02435A   21V0652277   \n",
              "4  fecf777cc540db1cf9abd2e72b0d839868dd2515    22BT03788A  22SH0674660   \n",
              "\n",
              "              ADDRESS  STREET NUMBER STREET DIRECTION STREET NAME STREET TYPE  \\\n",
              "0  5006 W GUNNISON ST           5006                W    GUNNISON          ST   \n",
              "1      3241 W 62ND ST           3241                W        62ND          ST   \n",
              "2      3811 W 61ST ST           3811                W        61ST          ST   \n",
              "3    4259 W WILCOX ST           4259                W      WILCOX          ST   \n",
              "4      1614 W 66TH ST           1614                W        66TH          ST   \n",
              "\n",
              "   WARD ISSUING DEPARTMENT  ... IMPOSED FINE ADMIN COSTS  \\\n",
              "0  45.0          Buildings  ...       2500.0          40   \n",
              "1  23.0          Buildings  ...        300.0          75   \n",
              "2  23.0          Buildings  ...          0.0           0   \n",
              "3  28.0          Buildings  ...        500.0          40   \n",
              "4  15.0          Buildings  ...          0.0           0   \n",
              "\n",
              "       LAST MODIFIED DATE          VIOLATION DATE VIOLATION CODE  \\\n",
              "0  02/15/2023 04:55:46 PM  12/12/2022 09:00:00 AM         234024   \n",
              "1  08/16/2016 10:07:35 AM  06/02/2015 09:00:00 AM         074024   \n",
              "2  02/15/2023 04:08:02 PM  08/19/2022 09:00:00 AM         002022   \n",
              "3  02/15/2023 12:09:07 PM  10/12/2021 09:00:00 AM         253020   \n",
              "4  02/15/2023 01:31:06 PM  12/06/2022 12:00:00 AM         197087   \n",
              "\n",
              "                               VIOLATION DESCRIPTION  \\\n",
              "0  Provide vent stack or main vent pipe of proper...   \n",
              "1  Provide guard rail at least 3 ft high. (13-124...   \n",
              "2                               Description of work:   \n",
              "3  Maintain mechanical ventilation system in good...   \n",
              "4  Install carbon monoxide detector within 40 fee...   \n",
              "\n",
              "                                         RESPONDENTS   LATITUDE  LONGITUDE  \\\n",
              "0             C/O EMILIA CRESPO RCI CONSTRUCTION LLC  41.968987 -87.753001   \n",
              "1                                       JOSE ANTONIO  41.780664 -87.704811   \n",
              "2          PROTILE CONSTRUCTION INC C/O JOSE J REYES  41.782256 -87.718458   \n",
              "3                           MINOO PATEL | NITI VAISH  41.878674 -87.732835   \n",
              "4  C/O BUSINESS FILINGS INCORPORATED ABERDEEN GRE...  41.774114 -87.664750   \n",
              "\n",
              "                                   LOCATION  \n",
              "0  (41.968987073274285, -87.75300053512358)  \n",
              "1   (41.78066412138804, -87.70481149542081)  \n",
              "2   (41.78225587973938, -87.71845756904534)  \n",
              "3     (41.8786739171648, -87.7328354313118)  \n",
              "4   (41.77411365454302, -87.66474985373549)  \n",
              "\n",
              "[5 rows x 22 columns]"
            ],
            "text/html": [
              "\n",
              "  <div id=\"df-1f82fe99-2bea-47b0-baa1-74bb237ee9bc\" class=\"colab-df-container\">\n",
              "    <div>\n",
              "<style scoped>\n",
              "    .dataframe tbody tr th:only-of-type {\n",
              "        vertical-align: middle;\n",
              "    }\n",
              "\n",
              "    .dataframe tbody tr th {\n",
              "        vertical-align: top;\n",
              "    }\n",
              "\n",
              "    .dataframe thead th {\n",
              "        text-align: right;\n",
              "    }\n",
              "</style>\n",
              "<table border=\"1\" class=\"dataframe\">\n",
              "  <thead>\n",
              "    <tr style=\"text-align: right;\">\n",
              "      <th></th>\n",
              "      <th>ID</th>\n",
              "      <th>DOCKET NUMBER</th>\n",
              "      <th>NOV NUMBER</th>\n",
              "      <th>ADDRESS</th>\n",
              "      <th>STREET NUMBER</th>\n",
              "      <th>STREET DIRECTION</th>\n",
              "      <th>STREET NAME</th>\n",
              "      <th>STREET TYPE</th>\n",
              "      <th>WARD</th>\n",
              "      <th>ISSUING DEPARTMENT</th>\n",
              "      <th>...</th>\n",
              "      <th>IMPOSED FINE</th>\n",
              "      <th>ADMIN COSTS</th>\n",
              "      <th>LAST MODIFIED DATE</th>\n",
              "      <th>VIOLATION DATE</th>\n",
              "      <th>VIOLATION CODE</th>\n",
              "      <th>VIOLATION DESCRIPTION</th>\n",
              "      <th>RESPONDENTS</th>\n",
              "      <th>LATITUDE</th>\n",
              "      <th>LONGITUDE</th>\n",
              "      <th>LOCATION</th>\n",
              "    </tr>\n",
              "  </thead>\n",
              "  <tbody>\n",
              "    <tr>\n",
              "      <th>0</th>\n",
              "      <td>9ed845888ab5e3bc6516adebba3319346b173012</td>\n",
              "      <td>23BT00101A</td>\n",
              "      <td>22P0675219</td>\n",
              "      <td>5006 W GUNNISON ST</td>\n",
              "      <td>5006</td>\n",
              "      <td>W</td>\n",
              "      <td>GUNNISON</td>\n",
              "      <td>ST</td>\n",
              "      <td>45.0</td>\n",
              "      <td>Buildings</td>\n",
              "      <td>...</td>\n",
              "      <td>2500.0</td>\n",
              "      <td>40</td>\n",
              "      <td>02/15/2023 04:55:46 PM</td>\n",
              "      <td>12/12/2022 09:00:00 AM</td>\n",
              "      <td>234024</td>\n",
              "      <td>Provide vent stack or main vent pipe of proper...</td>\n",
              "      <td>C/O EMILIA CRESPO RCI CONSTRUCTION LLC</td>\n",
              "      <td>41.968987</td>\n",
              "      <td>-87.753001</td>\n",
              "      <td>(41.968987073274285, -87.75300053512358)</td>\n",
              "    </tr>\n",
              "    <tr>\n",
              "      <th>1</th>\n",
              "      <td>b6df42910398cd4144f06d4ae36a25681848146b</td>\n",
              "      <td>15BT03446A</td>\n",
              "      <td>15WO442772</td>\n",
              "      <td>3241 W 62ND ST</td>\n",
              "      <td>3241</td>\n",
              "      <td>W</td>\n",
              "      <td>62ND</td>\n",
              "      <td>ST</td>\n",
              "      <td>23.0</td>\n",
              "      <td>Buildings</td>\n",
              "      <td>...</td>\n",
              "      <td>300.0</td>\n",
              "      <td>75</td>\n",
              "      <td>08/16/2016 10:07:35 AM</td>\n",
              "      <td>06/02/2015 09:00:00 AM</td>\n",
              "      <td>074024</td>\n",
              "      <td>Provide guard rail at least 3 ft high. (13-124...</td>\n",
              "      <td>JOSE ANTONIO</td>\n",
              "      <td>41.780664</td>\n",
              "      <td>-87.704811</td>\n",
              "      <td>(41.78066412138804, -87.70481149542081)</td>\n",
              "    </tr>\n",
              "    <tr>\n",
              "      <th>2</th>\n",
              "      <td>de16ff67b156537113e2e7ecb1d18044e268aa3a</td>\n",
              "      <td>22BT02866A</td>\n",
              "      <td>22T0668607</td>\n",
              "      <td>3811 W 61ST ST</td>\n",
              "      <td>3811</td>\n",
              "      <td>W</td>\n",
              "      <td>61ST</td>\n",
              "      <td>ST</td>\n",
              "      <td>23.0</td>\n",
              "      <td>Buildings</td>\n",
              "      <td>...</td>\n",
              "      <td>0.0</td>\n",
              "      <td>0</td>\n",
              "      <td>02/15/2023 04:08:02 PM</td>\n",
              "      <td>08/19/2022 09:00:00 AM</td>\n",
              "      <td>002022</td>\n",
              "      <td>Description of work:</td>\n",
              "      <td>PROTILE CONSTRUCTION INC C/O JOSE J REYES</td>\n",
              "      <td>41.782256</td>\n",
              "      <td>-87.718458</td>\n",
              "      <td>(41.78225587973938, -87.71845756904534)</td>\n",
              "    </tr>\n",
              "    <tr>\n",
              "      <th>3</th>\n",
              "      <td>ff933be74d08113f113a3ba84fa0f2652a017991</td>\n",
              "      <td>21BT02435A</td>\n",
              "      <td>21V0652277</td>\n",
              "      <td>4259 W WILCOX ST</td>\n",
              "      <td>4259</td>\n",
              "      <td>W</td>\n",
              "      <td>WILCOX</td>\n",
              "      <td>ST</td>\n",
              "      <td>28.0</td>\n",
              "      <td>Buildings</td>\n",
              "      <td>...</td>\n",
              "      <td>500.0</td>\n",
              "      <td>40</td>\n",
              "      <td>02/15/2023 12:09:07 PM</td>\n",
              "      <td>10/12/2021 09:00:00 AM</td>\n",
              "      <td>253020</td>\n",
              "      <td>Maintain mechanical ventilation system in good...</td>\n",
              "      <td>MINOO PATEL | NITI VAISH</td>\n",
              "      <td>41.878674</td>\n",
              "      <td>-87.732835</td>\n",
              "      <td>(41.8786739171648, -87.7328354313118)</td>\n",
              "    </tr>\n",
              "    <tr>\n",
              "      <th>4</th>\n",
              "      <td>fecf777cc540db1cf9abd2e72b0d839868dd2515</td>\n",
              "      <td>22BT03788A</td>\n",
              "      <td>22SH0674660</td>\n",
              "      <td>1614 W 66TH ST</td>\n",
              "      <td>1614</td>\n",
              "      <td>W</td>\n",
              "      <td>66TH</td>\n",
              "      <td>ST</td>\n",
              "      <td>15.0</td>\n",
              "      <td>Buildings</td>\n",
              "      <td>...</td>\n",
              "      <td>0.0</td>\n",
              "      <td>0</td>\n",
              "      <td>02/15/2023 01:31:06 PM</td>\n",
              "      <td>12/06/2022 12:00:00 AM</td>\n",
              "      <td>197087</td>\n",
              "      <td>Install carbon monoxide detector within 40 fee...</td>\n",
              "      <td>C/O BUSINESS FILINGS INCORPORATED ABERDEEN GRE...</td>\n",
              "      <td>41.774114</td>\n",
              "      <td>-87.664750</td>\n",
              "      <td>(41.77411365454302, -87.66474985373549)</td>\n",
              "    </tr>\n",
              "  </tbody>\n",
              "</table>\n",
              "<p>5 rows × 22 columns</p>\n",
              "</div>\n",
              "    <div class=\"colab-df-buttons\">\n",
              "\n",
              "  <div class=\"colab-df-container\">\n",
              "    <button class=\"colab-df-convert\" onclick=\"convertToInteractive('df-1f82fe99-2bea-47b0-baa1-74bb237ee9bc')\"\n",
              "            title=\"Convert this dataframe to an interactive table.\"\n",
              "            style=\"display:none;\">\n",
              "\n",
              "  <svg xmlns=\"http://www.w3.org/2000/svg\" height=\"24px\" viewBox=\"0 -960 960 960\">\n",
              "    <path d=\"M120-120v-720h720v720H120Zm60-500h600v-160H180v160Zm220 220h160v-160H400v160Zm0 220h160v-160H400v160ZM180-400h160v-160H180v160Zm440 0h160v-160H620v160ZM180-180h160v-160H180v160Zm440 0h160v-160H620v160Z\"/>\n",
              "  </svg>\n",
              "    </button>\n",
              "\n",
              "  <style>\n",
              "    .colab-df-container {\n",
              "      display:flex;\n",
              "      gap: 12px;\n",
              "    }\n",
              "\n",
              "    .colab-df-convert {\n",
              "      background-color: #E8F0FE;\n",
              "      border: none;\n",
              "      border-radius: 50%;\n",
              "      cursor: pointer;\n",
              "      display: none;\n",
              "      fill: #1967D2;\n",
              "      height: 32px;\n",
              "      padding: 0 0 0 0;\n",
              "      width: 32px;\n",
              "    }\n",
              "\n",
              "    .colab-df-convert:hover {\n",
              "      background-color: #E2EBFA;\n",
              "      box-shadow: 0px 1px 2px rgba(60, 64, 67, 0.3), 0px 1px 3px 1px rgba(60, 64, 67, 0.15);\n",
              "      fill: #174EA6;\n",
              "    }\n",
              "\n",
              "    .colab-df-buttons div {\n",
              "      margin-bottom: 4px;\n",
              "    }\n",
              "\n",
              "    [theme=dark] .colab-df-convert {\n",
              "      background-color: #3B4455;\n",
              "      fill: #D2E3FC;\n",
              "    }\n",
              "\n",
              "    [theme=dark] .colab-df-convert:hover {\n",
              "      background-color: #434B5C;\n",
              "      box-shadow: 0px 1px 3px 1px rgba(0, 0, 0, 0.15);\n",
              "      filter: drop-shadow(0px 1px 2px rgba(0, 0, 0, 0.3));\n",
              "      fill: #FFFFFF;\n",
              "    }\n",
              "  </style>\n",
              "\n",
              "    <script>\n",
              "      const buttonEl =\n",
              "        document.querySelector('#df-1f82fe99-2bea-47b0-baa1-74bb237ee9bc button.colab-df-convert');\n",
              "      buttonEl.style.display =\n",
              "        google.colab.kernel.accessAllowed ? 'block' : 'none';\n",
              "\n",
              "      async function convertToInteractive(key) {\n",
              "        const element = document.querySelector('#df-1f82fe99-2bea-47b0-baa1-74bb237ee9bc');\n",
              "        const dataTable =\n",
              "          await google.colab.kernel.invokeFunction('convertToInteractive',\n",
              "                                                    [key], {});\n",
              "        if (!dataTable) return;\n",
              "\n",
              "        const docLinkHtml = 'Like what you see? Visit the ' +\n",
              "          '<a target=\"_blank\" href=https://colab.research.google.com/notebooks/data_table.ipynb>data table notebook</a>'\n",
              "          + ' to learn more about interactive tables.';\n",
              "        element.innerHTML = '';\n",
              "        dataTable['output_type'] = 'display_data';\n",
              "        await google.colab.output.renderOutput(dataTable, element);\n",
              "        const docLink = document.createElement('div');\n",
              "        docLink.innerHTML = docLinkHtml;\n",
              "        element.appendChild(docLink);\n",
              "      }\n",
              "    </script>\n",
              "  </div>\n",
              "\n",
              "\n",
              "<div id=\"df-fca2b1a7-327c-4e72-881a-6429e5b89ee3\">\n",
              "  <button class=\"colab-df-quickchart\" onclick=\"quickchart('df-fca2b1a7-327c-4e72-881a-6429e5b89ee3')\"\n",
              "            title=\"Suggest charts\"\n",
              "            style=\"display:none;\">\n",
              "\n",
              "<svg xmlns=\"http://www.w3.org/2000/svg\" height=\"24px\"viewBox=\"0 0 24 24\"\n",
              "     width=\"24px\">\n",
              "    <g>\n",
              "        <path d=\"M19 3H5c-1.1 0-2 .9-2 2v14c0 1.1.9 2 2 2h14c1.1 0 2-.9 2-2V5c0-1.1-.9-2-2-2zM9 17H7v-7h2v7zm4 0h-2V7h2v10zm4 0h-2v-4h2v4z\"/>\n",
              "    </g>\n",
              "</svg>\n",
              "  </button>\n",
              "\n",
              "<style>\n",
              "  .colab-df-quickchart {\n",
              "      --bg-color: #E8F0FE;\n",
              "      --fill-color: #1967D2;\n",
              "      --hover-bg-color: #E2EBFA;\n",
              "      --hover-fill-color: #174EA6;\n",
              "      --disabled-fill-color: #AAA;\n",
              "      --disabled-bg-color: #DDD;\n",
              "  }\n",
              "\n",
              "  [theme=dark] .colab-df-quickchart {\n",
              "      --bg-color: #3B4455;\n",
              "      --fill-color: #D2E3FC;\n",
              "      --hover-bg-color: #434B5C;\n",
              "      --hover-fill-color: #FFFFFF;\n",
              "      --disabled-bg-color: #3B4455;\n",
              "      --disabled-fill-color: #666;\n",
              "  }\n",
              "\n",
              "  .colab-df-quickchart {\n",
              "    background-color: var(--bg-color);\n",
              "    border: none;\n",
              "    border-radius: 50%;\n",
              "    cursor: pointer;\n",
              "    display: none;\n",
              "    fill: var(--fill-color);\n",
              "    height: 32px;\n",
              "    padding: 0;\n",
              "    width: 32px;\n",
              "  }\n",
              "\n",
              "  .colab-df-quickchart:hover {\n",
              "    background-color: var(--hover-bg-color);\n",
              "    box-shadow: 0 1px 2px rgba(60, 64, 67, 0.3), 0 1px 3px 1px rgba(60, 64, 67, 0.15);\n",
              "    fill: var(--button-hover-fill-color);\n",
              "  }\n",
              "\n",
              "  .colab-df-quickchart-complete:disabled,\n",
              "  .colab-df-quickchart-complete:disabled:hover {\n",
              "    background-color: var(--disabled-bg-color);\n",
              "    fill: var(--disabled-fill-color);\n",
              "    box-shadow: none;\n",
              "  }\n",
              "\n",
              "  .colab-df-spinner {\n",
              "    border: 2px solid var(--fill-color);\n",
              "    border-color: transparent;\n",
              "    border-bottom-color: var(--fill-color);\n",
              "    animation:\n",
              "      spin 1s steps(1) infinite;\n",
              "  }\n",
              "\n",
              "  @keyframes spin {\n",
              "    0% {\n",
              "      border-color: transparent;\n",
              "      border-bottom-color: var(--fill-color);\n",
              "      border-left-color: var(--fill-color);\n",
              "    }\n",
              "    20% {\n",
              "      border-color: transparent;\n",
              "      border-left-color: var(--fill-color);\n",
              "      border-top-color: var(--fill-color);\n",
              "    }\n",
              "    30% {\n",
              "      border-color: transparent;\n",
              "      border-left-color: var(--fill-color);\n",
              "      border-top-color: var(--fill-color);\n",
              "      border-right-color: var(--fill-color);\n",
              "    }\n",
              "    40% {\n",
              "      border-color: transparent;\n",
              "      border-right-color: var(--fill-color);\n",
              "      border-top-color: var(--fill-color);\n",
              "    }\n",
              "    60% {\n",
              "      border-color: transparent;\n",
              "      border-right-color: var(--fill-color);\n",
              "    }\n",
              "    80% {\n",
              "      border-color: transparent;\n",
              "      border-right-color: var(--fill-color);\n",
              "      border-bottom-color: var(--fill-color);\n",
              "    }\n",
              "    90% {\n",
              "      border-color: transparent;\n",
              "      border-bottom-color: var(--fill-color);\n",
              "    }\n",
              "  }\n",
              "</style>\n",
              "\n",
              "  <script>\n",
              "    async function quickchart(key) {\n",
              "      const quickchartButtonEl =\n",
              "        document.querySelector('#' + key + ' button');\n",
              "      quickchartButtonEl.disabled = true;  // To prevent multiple clicks.\n",
              "      quickchartButtonEl.classList.add('colab-df-spinner');\n",
              "      try {\n",
              "        const charts = await google.colab.kernel.invokeFunction(\n",
              "            'suggestCharts', [key], {});\n",
              "      } catch (error) {\n",
              "        console.error('Error during call to suggestCharts:', error);\n",
              "      }\n",
              "      quickchartButtonEl.classList.remove('colab-df-spinner');\n",
              "      quickchartButtonEl.classList.add('colab-df-quickchart-complete');\n",
              "    }\n",
              "    (() => {\n",
              "      let quickchartButtonEl =\n",
              "        document.querySelector('#df-fca2b1a7-327c-4e72-881a-6429e5b89ee3 button');\n",
              "      quickchartButtonEl.style.display =\n",
              "        google.colab.kernel.accessAllowed ? 'block' : 'none';\n",
              "    })();\n",
              "  </script>\n",
              "</div>\n",
              "\n",
              "    </div>\n",
              "  </div>\n"
            ],
            "application/vnd.google.colaboratory.intrinsic+json": {
              "type": "dataframe",
              "variable_name": "df_chicago"
            }
          },
          "metadata": {},
          "execution_count": 43
        }
      ]
    },
    {
      "cell_type": "markdown",
      "source": [
        "**(2)**\n",
        "\n",
        "a) Describing datasets"
      ],
      "metadata": {
        "id": "wsEwOEXRgU53"
      }
    },
    {
      "cell_type": "code",
      "source": [
        "df_chicago.describe()\n",
        "print(\"Dataset Description:\\n\", df_chicago.describe())"
      ],
      "metadata": {
        "colab": {
          "base_uri": "https://localhost:8080/",
          "height": 0
        },
        "id": "06zKeKWFgTEo",
        "outputId": "96004c65-66ef-40c4-de55-699a0db3309c"
      },
      "execution_count": 44,
      "outputs": [
        {
          "output_type": "stream",
          "name": "stdout",
          "text": [
            "Dataset Description:\n",
            "        STREET NUMBER           WARD   IMPOSED FINE    ADMIN COSTS  \\\n",
            "count  784225.000000  781415.000000  784225.000000  784225.000000   \n",
            "mean     4276.940058      22.052917    1004.903041      32.041845   \n",
            "std      2938.933170      13.369680    2758.419584      35.662265   \n",
            "min         0.000000       0.000000       0.000000       0.000000   \n",
            "25%      1730.000000      10.000000       0.000000       0.000000   \n",
            "50%      3909.000000      21.000000       0.000000       0.000000   \n",
            "75%      6436.000000      32.000000     600.000000      75.000000   \n",
            "max    107039.000000      50.000000   50000.000000    1000.000000   \n",
            "\n",
            "            LATITUDE      LONGITUDE  \n",
            "count  783289.000000  783289.000000  \n",
            "mean       41.837560     -87.669924  \n",
            "std         0.087028       0.058375  \n",
            "min        41.644702     -87.914428  \n",
            "25%        41.764455     -87.713152  \n",
            "50%        41.835178     -87.668120  \n",
            "75%        41.907913     -87.627978  \n",
            "max        42.022686     -87.524679  \n"
          ]
        }
      ]
    },
    {
      "cell_type": "markdown",
      "source": [
        "**(2)**\n",
        "\n",
        "b) Number of rows and columns"
      ],
      "metadata": {
        "id": "ujkCUONjgtFT"
      }
    },
    {
      "cell_type": "code",
      "source": [
        "df_chicago.shape"
      ],
      "metadata": {
        "colab": {
          "base_uri": "https://localhost:8080/",
          "height": 0
        },
        "id": "ybNGxSB6gtu0",
        "outputId": "e32f5c79-692d-4cb8-c1ee-74c645fb8a30"
      },
      "execution_count": 45,
      "outputs": [
        {
          "output_type": "execute_result",
          "data": {
            "text/plain": [
              "(784225, 22)"
            ]
          },
          "metadata": {},
          "execution_count": 45
        }
      ]
    },
    {
      "cell_type": "code",
      "source": [
        "num_rows, num_columns = df_chicago.shape\n",
        "print(\"Number of rows:\", num_rows)\n",
        "print(\"Number of columns:\", num_columns)"
      ],
      "metadata": {
        "colab": {
          "base_uri": "https://localhost:8080/",
          "height": 0
        },
        "id": "FoxAVbilgwPP",
        "outputId": "f7ebe1b1-7058-415e-a913-00afa5b2dd85"
      },
      "execution_count": 46,
      "outputs": [
        {
          "output_type": "stream",
          "name": "stdout",
          "text": [
            "Number of rows: 784225\n",
            "Number of columns: 22\n"
          ]
        }
      ]
    },
    {
      "cell_type": "markdown",
      "source": [
        "**(3)**\n",
        "\n",
        "Choosing a random ward and filtering it"
      ],
      "metadata": {
        "id": "AkrjpXB8g1xH"
      }
    },
    {
      "cell_type": "markdown",
      "source": [
        "For this question, I am choosing WARD number 4."
      ],
      "metadata": {
        "id": "yf0sRcOChQ3S"
      }
    },
    {
      "cell_type": "code",
      "source": [
        "ward_4_data = df_chicago[df_chicago['WARD'] == 4]\n",
        "print(f\"Filtered dataset for Ward number 4 contains {ward_4_data.shape[0]} rows.\")\n",
        "ward_4_data.head()\n"
      ],
      "metadata": {
        "colab": {
          "base_uri": "https://localhost:8080/",
          "height": 635
        },
        "id": "3mwG0Zfrg2Xg",
        "outputId": "6d925c88-166e-4c92-a250-bd1d07143e88"
      },
      "execution_count": 47,
      "outputs": [
        {
          "output_type": "stream",
          "name": "stdout",
          "text": [
            "Filtered dataset for Ward number 4 contains 10105 rows.\n"
          ]
        },
        {
          "output_type": "execute_result",
          "data": {
            "text/plain": [
              "                                           ID DOCKET NUMBER  NOV NUMBER  \\\n",
              "9    600b156bb1301f36bf762b1621080c3610a881eb    22BT03343A  22P0671605   \n",
              "91   f598a94d2860a1dccbfbc162afafaee5f68ce03c    22BT03343A  22P0671605   \n",
              "311  e67263c5da885445d306ee6107dd5dc87c2cf5da    22BT01640A  22CO661930   \n",
              "320  7114943bb13bf43a1e3a6629d7662acf90df30c3    22BT01640A  22CO661930   \n",
              "342  eb659d2acd79fd082ca3829a334e3b48ff649f28    22BT01640A  22CO661930   \n",
              "\n",
              "                ADDRESS  STREET NUMBER STREET DIRECTION STREET NAME  \\\n",
              "9    4520 S DREXEL BLVD           4520                S      DREXEL   \n",
              "91   4520 S DREXEL BLVD           4520                S      DREXEL   \n",
              "311     722 E BOWEN AVE            722                E       BOWEN   \n",
              "320     722 E BOWEN AVE            722                E       BOWEN   \n",
              "342     722 E BOWEN AVE            722                E       BOWEN   \n",
              "\n",
              "    STREET TYPE  WARD ISSUING DEPARTMENT  ... IMPOSED FINE ADMIN COSTS  \\\n",
              "9          BLVD   4.0          Buildings  ...          0.0           0   \n",
              "91         BLVD   4.0          Buildings  ...          0.0           0   \n",
              "311         AVE   4.0          Buildings  ...       2500.0          75   \n",
              "320         AVE   4.0          Buildings  ...       2500.0          75   \n",
              "342         AVE   4.0          Buildings  ...       2500.0          75   \n",
              "\n",
              "         LAST MODIFIED DATE          VIOLATION DATE VIOLATION CODE  \\\n",
              "9    02/15/2023 01:31:06 PM  10/12/2022 12:00:00 AM         238020   \n",
              "91   02/15/2023 01:31:06 PM  10/12/2022 12:00:00 AM         236020   \n",
              "311  02/21/2023 03:19:06 PM  05/05/2022 09:00:00 AM         131016   \n",
              "320  02/21/2023 03:19:06 PM  05/05/2022 09:00:00 AM         138106   \n",
              "342  02/21/2023 03:19:06 PM  05/05/2022 09:00:00 AM         070024   \n",
              "\n",
              "                                 VIOLATION DESCRIPTION  \\\n",
              "9    Remove obstruction and repair defective house ...   \n",
              "91   Install plumbing fixtures and equipment proper...   \n",
              "311  Screen outer doors, windows, and other outer o...   \n",
              "320               Remove and stop nuisance. (7-28-060)   \n",
              "342  Repair or replace defective or missing members...   \n",
              "\n",
              "                                           RESPONDENTS   LATITUDE  LONGITUDE  \\\n",
              "9    C/O LOWENSTEIN CAPITAL LLC 4520-26 S. DREXEL R...  41.812543 -87.604583   \n",
              "91   C/O LOWENSTEIN CAPITAL LLC 4520-26 S. DREXEL R...  41.812543 -87.604583   \n",
              "311  BONHEUR DEVELOPMENT CORPORATION C/O FRED BONNE...  41.819576 -87.608483   \n",
              "320  BONHEUR DEVELOPMENT CORPORATION C/O FRED BONNE...  41.819576 -87.608483   \n",
              "342  BONHEUR DEVELOPMENT CORPORATION C/O FRED BONNE...  41.819576 -87.608483   \n",
              "\n",
              "                                     LOCATION  \n",
              "9    (41.812543113122274, -87.60458253364341)  \n",
              "91   (41.812543113122274, -87.60458253364341)  \n",
              "311  (41.819576474145684, -87.60848348791477)  \n",
              "320  (41.819576474145684, -87.60848348791477)  \n",
              "342  (41.819576474145684, -87.60848348791477)  \n",
              "\n",
              "[5 rows x 22 columns]"
            ],
            "text/html": [
              "\n",
              "  <div id=\"df-a343ad13-4270-4270-82ea-25bb461216b3\" class=\"colab-df-container\">\n",
              "    <div>\n",
              "<style scoped>\n",
              "    .dataframe tbody tr th:only-of-type {\n",
              "        vertical-align: middle;\n",
              "    }\n",
              "\n",
              "    .dataframe tbody tr th {\n",
              "        vertical-align: top;\n",
              "    }\n",
              "\n",
              "    .dataframe thead th {\n",
              "        text-align: right;\n",
              "    }\n",
              "</style>\n",
              "<table border=\"1\" class=\"dataframe\">\n",
              "  <thead>\n",
              "    <tr style=\"text-align: right;\">\n",
              "      <th></th>\n",
              "      <th>ID</th>\n",
              "      <th>DOCKET NUMBER</th>\n",
              "      <th>NOV NUMBER</th>\n",
              "      <th>ADDRESS</th>\n",
              "      <th>STREET NUMBER</th>\n",
              "      <th>STREET DIRECTION</th>\n",
              "      <th>STREET NAME</th>\n",
              "      <th>STREET TYPE</th>\n",
              "      <th>WARD</th>\n",
              "      <th>ISSUING DEPARTMENT</th>\n",
              "      <th>...</th>\n",
              "      <th>IMPOSED FINE</th>\n",
              "      <th>ADMIN COSTS</th>\n",
              "      <th>LAST MODIFIED DATE</th>\n",
              "      <th>VIOLATION DATE</th>\n",
              "      <th>VIOLATION CODE</th>\n",
              "      <th>VIOLATION DESCRIPTION</th>\n",
              "      <th>RESPONDENTS</th>\n",
              "      <th>LATITUDE</th>\n",
              "      <th>LONGITUDE</th>\n",
              "      <th>LOCATION</th>\n",
              "    </tr>\n",
              "  </thead>\n",
              "  <tbody>\n",
              "    <tr>\n",
              "      <th>9</th>\n",
              "      <td>600b156bb1301f36bf762b1621080c3610a881eb</td>\n",
              "      <td>22BT03343A</td>\n",
              "      <td>22P0671605</td>\n",
              "      <td>4520 S DREXEL BLVD</td>\n",
              "      <td>4520</td>\n",
              "      <td>S</td>\n",
              "      <td>DREXEL</td>\n",
              "      <td>BLVD</td>\n",
              "      <td>4.0</td>\n",
              "      <td>Buildings</td>\n",
              "      <td>...</td>\n",
              "      <td>0.0</td>\n",
              "      <td>0</td>\n",
              "      <td>02/15/2023 01:31:06 PM</td>\n",
              "      <td>10/12/2022 12:00:00 AM</td>\n",
              "      <td>238020</td>\n",
              "      <td>Remove obstruction and repair defective house ...</td>\n",
              "      <td>C/O LOWENSTEIN CAPITAL LLC 4520-26 S. DREXEL R...</td>\n",
              "      <td>41.812543</td>\n",
              "      <td>-87.604583</td>\n",
              "      <td>(41.812543113122274, -87.60458253364341)</td>\n",
              "    </tr>\n",
              "    <tr>\n",
              "      <th>91</th>\n",
              "      <td>f598a94d2860a1dccbfbc162afafaee5f68ce03c</td>\n",
              "      <td>22BT03343A</td>\n",
              "      <td>22P0671605</td>\n",
              "      <td>4520 S DREXEL BLVD</td>\n",
              "      <td>4520</td>\n",
              "      <td>S</td>\n",
              "      <td>DREXEL</td>\n",
              "      <td>BLVD</td>\n",
              "      <td>4.0</td>\n",
              "      <td>Buildings</td>\n",
              "      <td>...</td>\n",
              "      <td>0.0</td>\n",
              "      <td>0</td>\n",
              "      <td>02/15/2023 01:31:06 PM</td>\n",
              "      <td>10/12/2022 12:00:00 AM</td>\n",
              "      <td>236020</td>\n",
              "      <td>Install plumbing fixtures and equipment proper...</td>\n",
              "      <td>C/O LOWENSTEIN CAPITAL LLC 4520-26 S. DREXEL R...</td>\n",
              "      <td>41.812543</td>\n",
              "      <td>-87.604583</td>\n",
              "      <td>(41.812543113122274, -87.60458253364341)</td>\n",
              "    </tr>\n",
              "    <tr>\n",
              "      <th>311</th>\n",
              "      <td>e67263c5da885445d306ee6107dd5dc87c2cf5da</td>\n",
              "      <td>22BT01640A</td>\n",
              "      <td>22CO661930</td>\n",
              "      <td>722 E BOWEN AVE</td>\n",
              "      <td>722</td>\n",
              "      <td>E</td>\n",
              "      <td>BOWEN</td>\n",
              "      <td>AVE</td>\n",
              "      <td>4.0</td>\n",
              "      <td>Buildings</td>\n",
              "      <td>...</td>\n",
              "      <td>2500.0</td>\n",
              "      <td>75</td>\n",
              "      <td>02/21/2023 03:19:06 PM</td>\n",
              "      <td>05/05/2022 09:00:00 AM</td>\n",
              "      <td>131016</td>\n",
              "      <td>Screen outer doors, windows, and other outer o...</td>\n",
              "      <td>BONHEUR DEVELOPMENT CORPORATION C/O FRED BONNE...</td>\n",
              "      <td>41.819576</td>\n",
              "      <td>-87.608483</td>\n",
              "      <td>(41.819576474145684, -87.60848348791477)</td>\n",
              "    </tr>\n",
              "    <tr>\n",
              "      <th>320</th>\n",
              "      <td>7114943bb13bf43a1e3a6629d7662acf90df30c3</td>\n",
              "      <td>22BT01640A</td>\n",
              "      <td>22CO661930</td>\n",
              "      <td>722 E BOWEN AVE</td>\n",
              "      <td>722</td>\n",
              "      <td>E</td>\n",
              "      <td>BOWEN</td>\n",
              "      <td>AVE</td>\n",
              "      <td>4.0</td>\n",
              "      <td>Buildings</td>\n",
              "      <td>...</td>\n",
              "      <td>2500.0</td>\n",
              "      <td>75</td>\n",
              "      <td>02/21/2023 03:19:06 PM</td>\n",
              "      <td>05/05/2022 09:00:00 AM</td>\n",
              "      <td>138106</td>\n",
              "      <td>Remove and stop nuisance. (7-28-060)</td>\n",
              "      <td>BONHEUR DEVELOPMENT CORPORATION C/O FRED BONNE...</td>\n",
              "      <td>41.819576</td>\n",
              "      <td>-87.608483</td>\n",
              "      <td>(41.819576474145684, -87.60848348791477)</td>\n",
              "    </tr>\n",
              "    <tr>\n",
              "      <th>342</th>\n",
              "      <td>eb659d2acd79fd082ca3829a334e3b48ff649f28</td>\n",
              "      <td>22BT01640A</td>\n",
              "      <td>22CO661930</td>\n",
              "      <td>722 E BOWEN AVE</td>\n",
              "      <td>722</td>\n",
              "      <td>E</td>\n",
              "      <td>BOWEN</td>\n",
              "      <td>AVE</td>\n",
              "      <td>4.0</td>\n",
              "      <td>Buildings</td>\n",
              "      <td>...</td>\n",
              "      <td>2500.0</td>\n",
              "      <td>75</td>\n",
              "      <td>02/21/2023 03:19:06 PM</td>\n",
              "      <td>05/05/2022 09:00:00 AM</td>\n",
              "      <td>070024</td>\n",
              "      <td>Repair or replace defective or missing members...</td>\n",
              "      <td>BONHEUR DEVELOPMENT CORPORATION C/O FRED BONNE...</td>\n",
              "      <td>41.819576</td>\n",
              "      <td>-87.608483</td>\n",
              "      <td>(41.819576474145684, -87.60848348791477)</td>\n",
              "    </tr>\n",
              "  </tbody>\n",
              "</table>\n",
              "<p>5 rows × 22 columns</p>\n",
              "</div>\n",
              "    <div class=\"colab-df-buttons\">\n",
              "\n",
              "  <div class=\"colab-df-container\">\n",
              "    <button class=\"colab-df-convert\" onclick=\"convertToInteractive('df-a343ad13-4270-4270-82ea-25bb461216b3')\"\n",
              "            title=\"Convert this dataframe to an interactive table.\"\n",
              "            style=\"display:none;\">\n",
              "\n",
              "  <svg xmlns=\"http://www.w3.org/2000/svg\" height=\"24px\" viewBox=\"0 -960 960 960\">\n",
              "    <path d=\"M120-120v-720h720v720H120Zm60-500h600v-160H180v160Zm220 220h160v-160H400v160Zm0 220h160v-160H400v160ZM180-400h160v-160H180v160Zm440 0h160v-160H620v160ZM180-180h160v-160H180v160Zm440 0h160v-160H620v160Z\"/>\n",
              "  </svg>\n",
              "    </button>\n",
              "\n",
              "  <style>\n",
              "    .colab-df-container {\n",
              "      display:flex;\n",
              "      gap: 12px;\n",
              "    }\n",
              "\n",
              "    .colab-df-convert {\n",
              "      background-color: #E8F0FE;\n",
              "      border: none;\n",
              "      border-radius: 50%;\n",
              "      cursor: pointer;\n",
              "      display: none;\n",
              "      fill: #1967D2;\n",
              "      height: 32px;\n",
              "      padding: 0 0 0 0;\n",
              "      width: 32px;\n",
              "    }\n",
              "\n",
              "    .colab-df-convert:hover {\n",
              "      background-color: #E2EBFA;\n",
              "      box-shadow: 0px 1px 2px rgba(60, 64, 67, 0.3), 0px 1px 3px 1px rgba(60, 64, 67, 0.15);\n",
              "      fill: #174EA6;\n",
              "    }\n",
              "\n",
              "    .colab-df-buttons div {\n",
              "      margin-bottom: 4px;\n",
              "    }\n",
              "\n",
              "    [theme=dark] .colab-df-convert {\n",
              "      background-color: #3B4455;\n",
              "      fill: #D2E3FC;\n",
              "    }\n",
              "\n",
              "    [theme=dark] .colab-df-convert:hover {\n",
              "      background-color: #434B5C;\n",
              "      box-shadow: 0px 1px 3px 1px rgba(0, 0, 0, 0.15);\n",
              "      filter: drop-shadow(0px 1px 2px rgba(0, 0, 0, 0.3));\n",
              "      fill: #FFFFFF;\n",
              "    }\n",
              "  </style>\n",
              "\n",
              "    <script>\n",
              "      const buttonEl =\n",
              "        document.querySelector('#df-a343ad13-4270-4270-82ea-25bb461216b3 button.colab-df-convert');\n",
              "      buttonEl.style.display =\n",
              "        google.colab.kernel.accessAllowed ? 'block' : 'none';\n",
              "\n",
              "      async function convertToInteractive(key) {\n",
              "        const element = document.querySelector('#df-a343ad13-4270-4270-82ea-25bb461216b3');\n",
              "        const dataTable =\n",
              "          await google.colab.kernel.invokeFunction('convertToInteractive',\n",
              "                                                    [key], {});\n",
              "        if (!dataTable) return;\n",
              "\n",
              "        const docLinkHtml = 'Like what you see? Visit the ' +\n",
              "          '<a target=\"_blank\" href=https://colab.research.google.com/notebooks/data_table.ipynb>data table notebook</a>'\n",
              "          + ' to learn more about interactive tables.';\n",
              "        element.innerHTML = '';\n",
              "        dataTable['output_type'] = 'display_data';\n",
              "        await google.colab.output.renderOutput(dataTable, element);\n",
              "        const docLink = document.createElement('div');\n",
              "        docLink.innerHTML = docLinkHtml;\n",
              "        element.appendChild(docLink);\n",
              "      }\n",
              "    </script>\n",
              "  </div>\n",
              "\n",
              "\n",
              "<div id=\"df-e1a34d66-3a7d-48fd-bea0-c8da7f939d01\">\n",
              "  <button class=\"colab-df-quickchart\" onclick=\"quickchart('df-e1a34d66-3a7d-48fd-bea0-c8da7f939d01')\"\n",
              "            title=\"Suggest charts\"\n",
              "            style=\"display:none;\">\n",
              "\n",
              "<svg xmlns=\"http://www.w3.org/2000/svg\" height=\"24px\"viewBox=\"0 0 24 24\"\n",
              "     width=\"24px\">\n",
              "    <g>\n",
              "        <path d=\"M19 3H5c-1.1 0-2 .9-2 2v14c0 1.1.9 2 2 2h14c1.1 0 2-.9 2-2V5c0-1.1-.9-2-2-2zM9 17H7v-7h2v7zm4 0h-2V7h2v10zm4 0h-2v-4h2v4z\"/>\n",
              "    </g>\n",
              "</svg>\n",
              "  </button>\n",
              "\n",
              "<style>\n",
              "  .colab-df-quickchart {\n",
              "      --bg-color: #E8F0FE;\n",
              "      --fill-color: #1967D2;\n",
              "      --hover-bg-color: #E2EBFA;\n",
              "      --hover-fill-color: #174EA6;\n",
              "      --disabled-fill-color: #AAA;\n",
              "      --disabled-bg-color: #DDD;\n",
              "  }\n",
              "\n",
              "  [theme=dark] .colab-df-quickchart {\n",
              "      --bg-color: #3B4455;\n",
              "      --fill-color: #D2E3FC;\n",
              "      --hover-bg-color: #434B5C;\n",
              "      --hover-fill-color: #FFFFFF;\n",
              "      --disabled-bg-color: #3B4455;\n",
              "      --disabled-fill-color: #666;\n",
              "  }\n",
              "\n",
              "  .colab-df-quickchart {\n",
              "    background-color: var(--bg-color);\n",
              "    border: none;\n",
              "    border-radius: 50%;\n",
              "    cursor: pointer;\n",
              "    display: none;\n",
              "    fill: var(--fill-color);\n",
              "    height: 32px;\n",
              "    padding: 0;\n",
              "    width: 32px;\n",
              "  }\n",
              "\n",
              "  .colab-df-quickchart:hover {\n",
              "    background-color: var(--hover-bg-color);\n",
              "    box-shadow: 0 1px 2px rgba(60, 64, 67, 0.3), 0 1px 3px 1px rgba(60, 64, 67, 0.15);\n",
              "    fill: var(--button-hover-fill-color);\n",
              "  }\n",
              "\n",
              "  .colab-df-quickchart-complete:disabled,\n",
              "  .colab-df-quickchart-complete:disabled:hover {\n",
              "    background-color: var(--disabled-bg-color);\n",
              "    fill: var(--disabled-fill-color);\n",
              "    box-shadow: none;\n",
              "  }\n",
              "\n",
              "  .colab-df-spinner {\n",
              "    border: 2px solid var(--fill-color);\n",
              "    border-color: transparent;\n",
              "    border-bottom-color: var(--fill-color);\n",
              "    animation:\n",
              "      spin 1s steps(1) infinite;\n",
              "  }\n",
              "\n",
              "  @keyframes spin {\n",
              "    0% {\n",
              "      border-color: transparent;\n",
              "      border-bottom-color: var(--fill-color);\n",
              "      border-left-color: var(--fill-color);\n",
              "    }\n",
              "    20% {\n",
              "      border-color: transparent;\n",
              "      border-left-color: var(--fill-color);\n",
              "      border-top-color: var(--fill-color);\n",
              "    }\n",
              "    30% {\n",
              "      border-color: transparent;\n",
              "      border-left-color: var(--fill-color);\n",
              "      border-top-color: var(--fill-color);\n",
              "      border-right-color: var(--fill-color);\n",
              "    }\n",
              "    40% {\n",
              "      border-color: transparent;\n",
              "      border-right-color: var(--fill-color);\n",
              "      border-top-color: var(--fill-color);\n",
              "    }\n",
              "    60% {\n",
              "      border-color: transparent;\n",
              "      border-right-color: var(--fill-color);\n",
              "    }\n",
              "    80% {\n",
              "      border-color: transparent;\n",
              "      border-right-color: var(--fill-color);\n",
              "      border-bottom-color: var(--fill-color);\n",
              "    }\n",
              "    90% {\n",
              "      border-color: transparent;\n",
              "      border-bottom-color: var(--fill-color);\n",
              "    }\n",
              "  }\n",
              "</style>\n",
              "\n",
              "  <script>\n",
              "    async function quickchart(key) {\n",
              "      const quickchartButtonEl =\n",
              "        document.querySelector('#' + key + ' button');\n",
              "      quickchartButtonEl.disabled = true;  // To prevent multiple clicks.\n",
              "      quickchartButtonEl.classList.add('colab-df-spinner');\n",
              "      try {\n",
              "        const charts = await google.colab.kernel.invokeFunction(\n",
              "            'suggestCharts', [key], {});\n",
              "      } catch (error) {\n",
              "        console.error('Error during call to suggestCharts:', error);\n",
              "      }\n",
              "      quickchartButtonEl.classList.remove('colab-df-spinner');\n",
              "      quickchartButtonEl.classList.add('colab-df-quickchart-complete');\n",
              "    }\n",
              "    (() => {\n",
              "      let quickchartButtonEl =\n",
              "        document.querySelector('#df-e1a34d66-3a7d-48fd-bea0-c8da7f939d01 button');\n",
              "      quickchartButtonEl.style.display =\n",
              "        google.colab.kernel.accessAllowed ? 'block' : 'none';\n",
              "    })();\n",
              "  </script>\n",
              "</div>\n",
              "\n",
              "    </div>\n",
              "  </div>\n"
            ],
            "application/vnd.google.colaboratory.intrinsic+json": {
              "type": "dataframe",
              "variable_name": "ward_4_data"
            }
          },
          "metadata": {},
          "execution_count": 47
        }
      ]
    },
    {
      "cell_type": "code",
      "source": [
        "num_records = ward_4_data.shape[0]\n",
        "print(f\"The filtered dataframe for Ward number 4 contains {num_records} records.\")"
      ],
      "metadata": {
        "colab": {
          "base_uri": "https://localhost:8080/",
          "height": 0
        },
        "id": "13i-jl-vhtM7",
        "outputId": "9f6b9b7c-5d3f-463d-eaac-32ea83046318"
      },
      "execution_count": 48,
      "outputs": [
        {
          "output_type": "stream",
          "name": "stdout",
          "text": [
            "The filtered dataframe for Ward number 4 contains 10105 records.\n"
          ]
        }
      ]
    },
    {
      "cell_type": "markdown",
      "source": [
        "**(3)**\n",
        "\n",
        "a) The filtered dataframe for Ward number 4 contains 10105 records."
      ],
      "metadata": {
        "id": "WDwVXP0AiDie"
      }
    },
    {
      "cell_type": "markdown",
      "source": [
        "**(3)**\n",
        "\n",
        "b) I read over the internet a few interestig points about Ward 4:\n",
        "\n",
        "\n",
        "\n",
        "*   The 4th Ward is home to the site of the Douglas Monument and the original location of the old Chicago University\n",
        "\n",
        "*   The 4th Ward boasts a racially diverse population, with approximately 46.0% identifying as Black or African American, 30.2% as White, 13.3% as Asian, and 6.4% as Hispanic or Latino\n",
        "\n",
        "*   Toni Preckwinkle, who served as the 4th Ward Alderman for 19 years, was instrumental in the redevelopment of neighborhoods such as Kenwood, Oakland, Douglas, Grand Boulevard, and Hyde Park\n",
        "\n",
        "\n",
        "\n"
      ],
      "metadata": {
        "id": "Xy0y7dr3iQ2k"
      }
    },
    {
      "cell_type": "markdown",
      "source": [
        "\n",
        "\n",
        "---\n",
        "\n"
      ],
      "metadata": {
        "id": "Wq6Qyh_SNjJ9"
      }
    },
    {
      "cell_type": "code",
      "source": [
        "total_na = ward_4_data.isna().sum().sum()\n",
        "has_na = total_na > 0\n",
        "\n",
        "print(f\"Are there any NA values in the dataframe? {'Yes' if has_na else 'No'}\")\n",
        "print(f\"Total number of NA values in the dataframe: {total_na}\")"
      ],
      "metadata": {
        "colab": {
          "base_uri": "https://localhost:8080/",
          "height": 0
        },
        "id": "_3ZmBBmJiSn_",
        "outputId": "32269ae7-8e0e-4c72-a313-dd9d5e5a1ba6"
      },
      "execution_count": 49,
      "outputs": [
        {
          "output_type": "stream",
          "name": "stdout",
          "text": [
            "Are there any NA values in the dataframe? Yes\n",
            "Total number of NA values in the dataframe: 278\n"
          ]
        }
      ]
    },
    {
      "cell_type": "markdown",
      "source": [
        "**(4)**\n",
        "\n",
        "a) Yes, there Total 278 NA values in the dataframe"
      ],
      "metadata": {
        "id": "TPB0vunai94b"
      }
    },
    {
      "cell_type": "code",
      "source": [
        "num_complete_cases = ward_4_data.dropna().shape[0]\n",
        "total_rows = ward_4_data.shape[0]\n",
        "percentage_complete_cases = (num_complete_cases / total_rows) * 100\n",
        "\n",
        "\n",
        "print(f\"Number of complete cases: {num_complete_cases}\")\n",
        "print(f\"Total rows: {total_rows}\")\n",
        "print(f\"Percentage of complete cases: {percentage_complete_cases:.2f}%\")"
      ],
      "metadata": {
        "colab": {
          "base_uri": "https://localhost:8080/",
          "height": 0
        },
        "id": "AK5AXn-6jOUw",
        "outputId": "05ee5e1c-5214-41ab-9336-94efe2f63aa0"
      },
      "execution_count": 50,
      "outputs": [
        {
          "output_type": "stream",
          "name": "stdout",
          "text": [
            "Number of complete cases: 9835\n",
            "Total rows: 10105\n",
            "Percentage of complete cases: 97.33%\n"
          ]
        }
      ]
    },
    {
      "cell_type": "markdown",
      "source": [
        "**(4)**\n",
        "\n",
        "b) A complete case is a row in the dataframe that has no missing or NA values in any of its columns. Here, we have got 97.33% of complete cases."
      ],
      "metadata": {
        "id": "f1UwFoWajp9G"
      }
    },
    {
      "cell_type": "code",
      "source": [
        "num_blank_cells = (ward_4_data == '').sum().sum()\n",
        "print(f\"Total number of blank cells in the dataframe: {num_blank_cells}\")"
      ],
      "metadata": {
        "colab": {
          "base_uri": "https://localhost:8080/",
          "height": 0
        },
        "id": "QoI7OacdkBNn",
        "outputId": "d0c31771-b23a-4810-8fb3-0fbd858c3a8e"
      },
      "execution_count": 51,
      "outputs": [
        {
          "output_type": "stream",
          "name": "stdout",
          "text": [
            "Total number of blank cells in the dataframe: 0\n"
          ]
        }
      ]
    },
    {
      "cell_type": "markdown",
      "source": [
        "**(4)**\n",
        "\n",
        "c) In our filtered dataset, there are no blank cells as we checked. Hence will be proceeding ahead without converting any blank cells into NAs."
      ],
      "metadata": {
        "id": "fAeu4YKKkLl2"
      }
    },
    {
      "cell_type": "code",
      "source": [
        "missing_table = ward_4_data.isna().sum().reset_index()\n",
        "missing_table.columns = ['Variable', 'Number of Missing Values']\n",
        "missing_table['Percentage of Missing Values'] = (missing_table['Number of Missing Values'] / ward_4_data.shape[0]) * 100\n",
        "\n",
        "print(\"Missing Values Table:\")\n",
        "print(missing_table)"
      ],
      "metadata": {
        "colab": {
          "base_uri": "https://localhost:8080/",
          "height": 0
        },
        "id": "9ymsCjPbk9z2",
        "outputId": "12a54558-9f2e-4951-ce2c-1b556668374a"
      },
      "execution_count": 52,
      "outputs": [
        {
          "output_type": "stream",
          "name": "stdout",
          "text": [
            "Missing Values Table:\n",
            "                 Variable  Number of Missing Values  \\\n",
            "0                      ID                         0   \n",
            "1           DOCKET NUMBER                         0   \n",
            "2              NOV NUMBER                         0   \n",
            "3                 ADDRESS                         0   \n",
            "4           STREET NUMBER                         0   \n",
            "5        STREET DIRECTION                         0   \n",
            "6             STREET NAME                         0   \n",
            "7             STREET TYPE                        31   \n",
            "8                    WARD                         0   \n",
            "9      ISSUING DEPARTMENT                         0   \n",
            "10           HEARING DATE                         0   \n",
            "11       CASE DISPOSITION                       235   \n",
            "12           IMPOSED FINE                         0   \n",
            "13            ADMIN COSTS                         0   \n",
            "14     LAST MODIFIED DATE                         0   \n",
            "15         VIOLATION DATE                         0   \n",
            "16         VIOLATION CODE                         0   \n",
            "17  VIOLATION DESCRIPTION                         0   \n",
            "18            RESPONDENTS                         0   \n",
            "19               LATITUDE                         4   \n",
            "20              LONGITUDE                         4   \n",
            "21               LOCATION                         4   \n",
            "\n",
            "    Percentage of Missing Values  \n",
            "0                       0.000000  \n",
            "1                       0.000000  \n",
            "2                       0.000000  \n",
            "3                       0.000000  \n",
            "4                       0.000000  \n",
            "5                       0.000000  \n",
            "6                       0.000000  \n",
            "7                       0.306779  \n",
            "8                       0.000000  \n",
            "9                       0.000000  \n",
            "10                      0.000000  \n",
            "11                      2.325581  \n",
            "12                      0.000000  \n",
            "13                      0.000000  \n",
            "14                      0.000000  \n",
            "15                      0.000000  \n",
            "16                      0.000000  \n",
            "17                      0.000000  \n",
            "18                      0.000000  \n",
            "19                      0.039584  \n",
            "20                      0.039584  \n",
            "21                      0.039584  \n"
          ]
        }
      ]
    },
    {
      "cell_type": "markdown",
      "source": [
        "**(4)**\n",
        "\n",
        "(d) Above, generated a table that shows the number of missing values and the percentage of missing values for each variable. Please refer the index for matching the variables in each table"
      ],
      "metadata": {
        "id": "A86KgMlrkdjZ"
      }
    },
    {
      "cell_type": "markdown",
      "source": [
        "\n",
        "\n",
        "---\n",
        "\n"
      ],
      "metadata": {
        "id": "Lp1xcSeBmSop"
      }
    },
    {
      "cell_type": "markdown",
      "source": [
        "**(5)**\n",
        "\n",
        "Handling dates\n"
      ],
      "metadata": {
        "id": "I1B17aGomTiY"
      }
    },
    {
      "cell_type": "code",
      "source": [
        "print(\"Data types of all columns:\")\n",
        "print(ward_4_data.dtypes)\n",
        "\n",
        "potential_date_columns = [col for col in ward_4_data.columns if 'date' in col.lower()]\n",
        "\n",
        "print(\"\\nColumns that potentially contain date values:\")\n",
        "print(potential_date_columns)"
      ],
      "metadata": {
        "colab": {
          "base_uri": "https://localhost:8080/",
          "height": 0
        },
        "id": "ti8ozNuzmeYR",
        "outputId": "261de223-81da-401d-fd9a-c6f172ad09dd"
      },
      "execution_count": 53,
      "outputs": [
        {
          "output_type": "stream",
          "name": "stdout",
          "text": [
            "Data types of all columns:\n",
            "ID                        object\n",
            "DOCKET NUMBER             object\n",
            "NOV NUMBER                object\n",
            "ADDRESS                   object\n",
            "STREET NUMBER              int64\n",
            "STREET DIRECTION          object\n",
            "STREET NAME               object\n",
            "STREET TYPE               object\n",
            "WARD                     float64\n",
            "ISSUING DEPARTMENT        object\n",
            "HEARING DATE              object\n",
            "CASE DISPOSITION          object\n",
            "IMPOSED FINE             float64\n",
            "ADMIN COSTS                int64\n",
            "LAST MODIFIED DATE        object\n",
            "VIOLATION DATE            object\n",
            "VIOLATION CODE            object\n",
            "VIOLATION DESCRIPTION     object\n",
            "RESPONDENTS               object\n",
            "LATITUDE                 float64\n",
            "LONGITUDE                float64\n",
            "LOCATION                  object\n",
            "dtype: object\n",
            "\n",
            "Columns that potentially contain date values:\n",
            "['HEARING DATE', 'LAST MODIFIED DATE', 'VIOLATION DATE']\n"
          ]
        }
      ]
    },
    {
      "cell_type": "markdown",
      "source": [
        "**(5)**\n",
        "\n",
        "a) Columns that potentially contain date values are HEARING DATE', 'LAST MODIFIED DATE', 'VIOLATION DATE'."
      ],
      "metadata": {
        "id": "CDMaRjNKmmrd"
      }
    },
    {
      "cell_type": "code",
      "source": [
        "ward_4_data['HEARING DATE'] = pd.to_datetime(ward_4_data['HEARING DATE'], errors='coerce')\n",
        "ward_4_data['VIOLATION DATE'] = pd.to_datetime(ward_4_data['VIOLATION DATE'], errors='coerce')"
      ],
      "metadata": {
        "colab": {
          "base_uri": "https://localhost:8080/",
          "height": 0
        },
        "id": "KZNf4a5UnEWK",
        "outputId": "d37c1b91-9f48-4619-fdd2-84b2cdfbd955"
      },
      "execution_count": 54,
      "outputs": [
        {
          "output_type": "stream",
          "name": "stderr",
          "text": [
            "<ipython-input-54-218082060443>:1: SettingWithCopyWarning: \n",
            "A value is trying to be set on a copy of a slice from a DataFrame.\n",
            "Try using .loc[row_indexer,col_indexer] = value instead\n",
            "\n",
            "See the caveats in the documentation: https://pandas.pydata.org/pandas-docs/stable/user_guide/indexing.html#returning-a-view-versus-a-copy\n",
            "  ward_4_data['HEARING DATE'] = pd.to_datetime(ward_4_data['HEARING DATE'], errors='coerce')\n",
            "<ipython-input-54-218082060443>:2: UserWarning: Could not infer format, so each element will be parsed individually, falling back to `dateutil`. To ensure parsing is consistent and as-expected, please specify a format.\n",
            "  ward_4_data['VIOLATION DATE'] = pd.to_datetime(ward_4_data['VIOLATION DATE'], errors='coerce')\n",
            "<ipython-input-54-218082060443>:2: SettingWithCopyWarning: \n",
            "A value is trying to be set on a copy of a slice from a DataFrame.\n",
            "Try using .loc[row_indexer,col_indexer] = value instead\n",
            "\n",
            "See the caveats in the documentation: https://pandas.pydata.org/pandas-docs/stable/user_guide/indexing.html#returning-a-view-versus-a-copy\n",
            "  ward_4_data['VIOLATION DATE'] = pd.to_datetime(ward_4_data['VIOLATION DATE'], errors='coerce')\n"
          ]
        }
      ]
    },
    {
      "cell_type": "markdown",
      "source": [
        "Here, we first Converted 'HEARING DATE' and 'VIOLATION DATE' to datetime format"
      ],
      "metadata": {
        "id": "rQP0KaRwnJ6H"
      }
    },
    {
      "cell_type": "code",
      "source": [
        "ward_4_data['CityDelay'] = (ward_4_data['HEARING DATE'] - ward_4_data['VIOLATION DATE']).dt.days\n",
        "\n",
        "print(\"CityDelay column added to the dataframe:\")\n",
        "ward_4_data[['HEARING DATE', 'VIOLATION DATE', 'CityDelay']].head()"
      ],
      "metadata": {
        "colab": {
          "base_uri": "https://localhost:8080/",
          "height": 328
        },
        "id": "r6F9QoQ6nNCW",
        "outputId": "09c6fa05-aa49-4992-f874-5ee5736e8393"
      },
      "execution_count": 55,
      "outputs": [
        {
          "output_type": "stream",
          "name": "stdout",
          "text": [
            "CityDelay column added to the dataframe:\n"
          ]
        },
        {
          "output_type": "stream",
          "name": "stderr",
          "text": [
            "<ipython-input-55-c64aa65c8325>:1: SettingWithCopyWarning: \n",
            "A value is trying to be set on a copy of a slice from a DataFrame.\n",
            "Try using .loc[row_indexer,col_indexer] = value instead\n",
            "\n",
            "See the caveats in the documentation: https://pandas.pydata.org/pandas-docs/stable/user_guide/indexing.html#returning-a-view-versus-a-copy\n",
            "  ward_4_data['CityDelay'] = (ward_4_data['HEARING DATE'] - ward_4_data['VIOLATION DATE']).dt.days\n"
          ]
        },
        {
          "output_type": "execute_result",
          "data": {
            "text/plain": [
              "    HEARING DATE      VIOLATION DATE  CityDelay\n",
              "9     2023-02-15 2022-10-12 00:00:00        126\n",
              "91    2023-02-15 2022-10-12 00:00:00        126\n",
              "311   2023-02-21 2022-05-05 09:00:00        291\n",
              "320   2023-02-21 2022-05-05 09:00:00        291\n",
              "342   2023-02-21 2022-05-05 09:00:00        291"
            ],
            "text/html": [
              "\n",
              "  <div id=\"df-71602dd7-6e82-474b-ac85-0e0291e8e0b9\" class=\"colab-df-container\">\n",
              "    <div>\n",
              "<style scoped>\n",
              "    .dataframe tbody tr th:only-of-type {\n",
              "        vertical-align: middle;\n",
              "    }\n",
              "\n",
              "    .dataframe tbody tr th {\n",
              "        vertical-align: top;\n",
              "    }\n",
              "\n",
              "    .dataframe thead th {\n",
              "        text-align: right;\n",
              "    }\n",
              "</style>\n",
              "<table border=\"1\" class=\"dataframe\">\n",
              "  <thead>\n",
              "    <tr style=\"text-align: right;\">\n",
              "      <th></th>\n",
              "      <th>HEARING DATE</th>\n",
              "      <th>VIOLATION DATE</th>\n",
              "      <th>CityDelay</th>\n",
              "    </tr>\n",
              "  </thead>\n",
              "  <tbody>\n",
              "    <tr>\n",
              "      <th>9</th>\n",
              "      <td>2023-02-15</td>\n",
              "      <td>2022-10-12 00:00:00</td>\n",
              "      <td>126</td>\n",
              "    </tr>\n",
              "    <tr>\n",
              "      <th>91</th>\n",
              "      <td>2023-02-15</td>\n",
              "      <td>2022-10-12 00:00:00</td>\n",
              "      <td>126</td>\n",
              "    </tr>\n",
              "    <tr>\n",
              "      <th>311</th>\n",
              "      <td>2023-02-21</td>\n",
              "      <td>2022-05-05 09:00:00</td>\n",
              "      <td>291</td>\n",
              "    </tr>\n",
              "    <tr>\n",
              "      <th>320</th>\n",
              "      <td>2023-02-21</td>\n",
              "      <td>2022-05-05 09:00:00</td>\n",
              "      <td>291</td>\n",
              "    </tr>\n",
              "    <tr>\n",
              "      <th>342</th>\n",
              "      <td>2023-02-21</td>\n",
              "      <td>2022-05-05 09:00:00</td>\n",
              "      <td>291</td>\n",
              "    </tr>\n",
              "  </tbody>\n",
              "</table>\n",
              "</div>\n",
              "    <div class=\"colab-df-buttons\">\n",
              "\n",
              "  <div class=\"colab-df-container\">\n",
              "    <button class=\"colab-df-convert\" onclick=\"convertToInteractive('df-71602dd7-6e82-474b-ac85-0e0291e8e0b9')\"\n",
              "            title=\"Convert this dataframe to an interactive table.\"\n",
              "            style=\"display:none;\">\n",
              "\n",
              "  <svg xmlns=\"http://www.w3.org/2000/svg\" height=\"24px\" viewBox=\"0 -960 960 960\">\n",
              "    <path d=\"M120-120v-720h720v720H120Zm60-500h600v-160H180v160Zm220 220h160v-160H400v160Zm0 220h160v-160H400v160ZM180-400h160v-160H180v160Zm440 0h160v-160H620v160ZM180-180h160v-160H180v160Zm440 0h160v-160H620v160Z\"/>\n",
              "  </svg>\n",
              "    </button>\n",
              "\n",
              "  <style>\n",
              "    .colab-df-container {\n",
              "      display:flex;\n",
              "      gap: 12px;\n",
              "    }\n",
              "\n",
              "    .colab-df-convert {\n",
              "      background-color: #E8F0FE;\n",
              "      border: none;\n",
              "      border-radius: 50%;\n",
              "      cursor: pointer;\n",
              "      display: none;\n",
              "      fill: #1967D2;\n",
              "      height: 32px;\n",
              "      padding: 0 0 0 0;\n",
              "      width: 32px;\n",
              "    }\n",
              "\n",
              "    .colab-df-convert:hover {\n",
              "      background-color: #E2EBFA;\n",
              "      box-shadow: 0px 1px 2px rgba(60, 64, 67, 0.3), 0px 1px 3px 1px rgba(60, 64, 67, 0.15);\n",
              "      fill: #174EA6;\n",
              "    }\n",
              "\n",
              "    .colab-df-buttons div {\n",
              "      margin-bottom: 4px;\n",
              "    }\n",
              "\n",
              "    [theme=dark] .colab-df-convert {\n",
              "      background-color: #3B4455;\n",
              "      fill: #D2E3FC;\n",
              "    }\n",
              "\n",
              "    [theme=dark] .colab-df-convert:hover {\n",
              "      background-color: #434B5C;\n",
              "      box-shadow: 0px 1px 3px 1px rgba(0, 0, 0, 0.15);\n",
              "      filter: drop-shadow(0px 1px 2px rgba(0, 0, 0, 0.3));\n",
              "      fill: #FFFFFF;\n",
              "    }\n",
              "  </style>\n",
              "\n",
              "    <script>\n",
              "      const buttonEl =\n",
              "        document.querySelector('#df-71602dd7-6e82-474b-ac85-0e0291e8e0b9 button.colab-df-convert');\n",
              "      buttonEl.style.display =\n",
              "        google.colab.kernel.accessAllowed ? 'block' : 'none';\n",
              "\n",
              "      async function convertToInteractive(key) {\n",
              "        const element = document.querySelector('#df-71602dd7-6e82-474b-ac85-0e0291e8e0b9');\n",
              "        const dataTable =\n",
              "          await google.colab.kernel.invokeFunction('convertToInteractive',\n",
              "                                                    [key], {});\n",
              "        if (!dataTable) return;\n",
              "\n",
              "        const docLinkHtml = 'Like what you see? Visit the ' +\n",
              "          '<a target=\"_blank\" href=https://colab.research.google.com/notebooks/data_table.ipynb>data table notebook</a>'\n",
              "          + ' to learn more about interactive tables.';\n",
              "        element.innerHTML = '';\n",
              "        dataTable['output_type'] = 'display_data';\n",
              "        await google.colab.output.renderOutput(dataTable, element);\n",
              "        const docLink = document.createElement('div');\n",
              "        docLink.innerHTML = docLinkHtml;\n",
              "        element.appendChild(docLink);\n",
              "      }\n",
              "    </script>\n",
              "  </div>\n",
              "\n",
              "\n",
              "<div id=\"df-fb500f5f-d5bc-4b6a-9ed6-16e5e406bf7a\">\n",
              "  <button class=\"colab-df-quickchart\" onclick=\"quickchart('df-fb500f5f-d5bc-4b6a-9ed6-16e5e406bf7a')\"\n",
              "            title=\"Suggest charts\"\n",
              "            style=\"display:none;\">\n",
              "\n",
              "<svg xmlns=\"http://www.w3.org/2000/svg\" height=\"24px\"viewBox=\"0 0 24 24\"\n",
              "     width=\"24px\">\n",
              "    <g>\n",
              "        <path d=\"M19 3H5c-1.1 0-2 .9-2 2v14c0 1.1.9 2 2 2h14c1.1 0 2-.9 2-2V5c0-1.1-.9-2-2-2zM9 17H7v-7h2v7zm4 0h-2V7h2v10zm4 0h-2v-4h2v4z\"/>\n",
              "    </g>\n",
              "</svg>\n",
              "  </button>\n",
              "\n",
              "<style>\n",
              "  .colab-df-quickchart {\n",
              "      --bg-color: #E8F0FE;\n",
              "      --fill-color: #1967D2;\n",
              "      --hover-bg-color: #E2EBFA;\n",
              "      --hover-fill-color: #174EA6;\n",
              "      --disabled-fill-color: #AAA;\n",
              "      --disabled-bg-color: #DDD;\n",
              "  }\n",
              "\n",
              "  [theme=dark] .colab-df-quickchart {\n",
              "      --bg-color: #3B4455;\n",
              "      --fill-color: #D2E3FC;\n",
              "      --hover-bg-color: #434B5C;\n",
              "      --hover-fill-color: #FFFFFF;\n",
              "      --disabled-bg-color: #3B4455;\n",
              "      --disabled-fill-color: #666;\n",
              "  }\n",
              "\n",
              "  .colab-df-quickchart {\n",
              "    background-color: var(--bg-color);\n",
              "    border: none;\n",
              "    border-radius: 50%;\n",
              "    cursor: pointer;\n",
              "    display: none;\n",
              "    fill: var(--fill-color);\n",
              "    height: 32px;\n",
              "    padding: 0;\n",
              "    width: 32px;\n",
              "  }\n",
              "\n",
              "  .colab-df-quickchart:hover {\n",
              "    background-color: var(--hover-bg-color);\n",
              "    box-shadow: 0 1px 2px rgba(60, 64, 67, 0.3), 0 1px 3px 1px rgba(60, 64, 67, 0.15);\n",
              "    fill: var(--button-hover-fill-color);\n",
              "  }\n",
              "\n",
              "  .colab-df-quickchart-complete:disabled,\n",
              "  .colab-df-quickchart-complete:disabled:hover {\n",
              "    background-color: var(--disabled-bg-color);\n",
              "    fill: var(--disabled-fill-color);\n",
              "    box-shadow: none;\n",
              "  }\n",
              "\n",
              "  .colab-df-spinner {\n",
              "    border: 2px solid var(--fill-color);\n",
              "    border-color: transparent;\n",
              "    border-bottom-color: var(--fill-color);\n",
              "    animation:\n",
              "      spin 1s steps(1) infinite;\n",
              "  }\n",
              "\n",
              "  @keyframes spin {\n",
              "    0% {\n",
              "      border-color: transparent;\n",
              "      border-bottom-color: var(--fill-color);\n",
              "      border-left-color: var(--fill-color);\n",
              "    }\n",
              "    20% {\n",
              "      border-color: transparent;\n",
              "      border-left-color: var(--fill-color);\n",
              "      border-top-color: var(--fill-color);\n",
              "    }\n",
              "    30% {\n",
              "      border-color: transparent;\n",
              "      border-left-color: var(--fill-color);\n",
              "      border-top-color: var(--fill-color);\n",
              "      border-right-color: var(--fill-color);\n",
              "    }\n",
              "    40% {\n",
              "      border-color: transparent;\n",
              "      border-right-color: var(--fill-color);\n",
              "      border-top-color: var(--fill-color);\n",
              "    }\n",
              "    60% {\n",
              "      border-color: transparent;\n",
              "      border-right-color: var(--fill-color);\n",
              "    }\n",
              "    80% {\n",
              "      border-color: transparent;\n",
              "      border-right-color: var(--fill-color);\n",
              "      border-bottom-color: var(--fill-color);\n",
              "    }\n",
              "    90% {\n",
              "      border-color: transparent;\n",
              "      border-bottom-color: var(--fill-color);\n",
              "    }\n",
              "  }\n",
              "</style>\n",
              "\n",
              "  <script>\n",
              "    async function quickchart(key) {\n",
              "      const quickchartButtonEl =\n",
              "        document.querySelector('#' + key + ' button');\n",
              "      quickchartButtonEl.disabled = true;  // To prevent multiple clicks.\n",
              "      quickchartButtonEl.classList.add('colab-df-spinner');\n",
              "      try {\n",
              "        const charts = await google.colab.kernel.invokeFunction(\n",
              "            'suggestCharts', [key], {});\n",
              "      } catch (error) {\n",
              "        console.error('Error during call to suggestCharts:', error);\n",
              "      }\n",
              "      quickchartButtonEl.classList.remove('colab-df-spinner');\n",
              "      quickchartButtonEl.classList.add('colab-df-quickchart-complete');\n",
              "    }\n",
              "    (() => {\n",
              "      let quickchartButtonEl =\n",
              "        document.querySelector('#df-fb500f5f-d5bc-4b6a-9ed6-16e5e406bf7a button');\n",
              "      quickchartButtonEl.style.display =\n",
              "        google.colab.kernel.accessAllowed ? 'block' : 'none';\n",
              "    })();\n",
              "  </script>\n",
              "</div>\n",
              "\n",
              "    </div>\n",
              "  </div>\n"
            ],
            "application/vnd.google.colaboratory.intrinsic+json": {
              "type": "dataframe",
              "summary": "{\n  \"name\": \"ward_4_data[['HEARING DATE', 'VIOLATION DATE', 'CityDelay']]\",\n  \"rows\": 5,\n  \"fields\": [\n    {\n      \"column\": \"HEARING DATE\",\n      \"properties\": {\n        \"dtype\": \"date\",\n        \"min\": \"2023-02-15 00:00:00\",\n        \"max\": \"2023-02-21 00:00:00\",\n        \"num_unique_values\": 2,\n        \"samples\": [\n          \"2023-02-21 00:00:00\",\n          \"2023-02-15 00:00:00\"\n        ],\n        \"semantic_type\": \"\",\n        \"description\": \"\"\n      }\n    },\n    {\n      \"column\": \"VIOLATION DATE\",\n      \"properties\": {\n        \"dtype\": \"date\",\n        \"min\": \"2022-05-05 09:00:00\",\n        \"max\": \"2022-10-12 00:00:00\",\n        \"num_unique_values\": 2,\n        \"samples\": [\n          \"2022-05-05 09:00:00\",\n          \"2022-10-12 00:00:00\"\n        ],\n        \"semantic_type\": \"\",\n        \"description\": \"\"\n      }\n    },\n    {\n      \"column\": \"CityDelay\",\n      \"properties\": {\n        \"dtype\": \"number\",\n        \"std\": 90,\n        \"min\": 126,\n        \"max\": 291,\n        \"num_unique_values\": 2,\n        \"samples\": [\n          291,\n          126\n        ],\n        \"semantic_type\": \"\",\n        \"description\": \"\"\n      }\n    }\n  ]\n}"
            }
          },
          "metadata": {},
          "execution_count": 55
        }
      ]
    },
    {
      "cell_type": "markdown",
      "source": [
        "**(5)**\n",
        "\n",
        "b) Added a new variable to the dataframe called CityDelay. CityDelay is created based on the difference between the HearingDate and ViolationDate."
      ],
      "metadata": {
        "id": "QsIkF-8GnXgQ"
      }
    },
    {
      "cell_type": "markdown",
      "source": [
        "**(5)**\n",
        "\n",
        "c) My birthday falls on 9th of October"
      ],
      "metadata": {
        "id": "npDqv__EnlSx"
      }
    },
    {
      "cell_type": "code",
      "source": [
        "oct_9_violations = ward_4_data[ward_4_data['VIOLATION DATE'].dt.month == 10]\n",
        "oct_9_violations = oct_9_violations[oct_9_violations['VIOLATION DATE'].dt.day == 9]\n",
        "\n",
        "num_violations = oct_9_violations.shape[0]\n",
        "print(f\"Number of violations on October 9th: {num_violations}\")"
      ],
      "metadata": {
        "colab": {
          "base_uri": "https://localhost:8080/",
          "height": 0
        },
        "id": "biqXT1NSnqZP",
        "outputId": "a474f86b-22c9-4a24-e35c-86f53f1f545b"
      },
      "execution_count": 56,
      "outputs": [
        {
          "output_type": "stream",
          "name": "stdout",
          "text": [
            "Number of violations on October 9th: 22\n"
          ]
        }
      ]
    },
    {
      "cell_type": "code",
      "source": [
        "most_common_disposition = oct_9_violations['CASE DISPOSITION'].mode()[0]\n",
        "print(f\"Most common Case Disposition for those ordinance violations: {most_common_disposition}\")"
      ],
      "metadata": {
        "colab": {
          "base_uri": "https://localhost:8080/",
          "height": 0
        },
        "id": "EiHGjgVJossW",
        "outputId": "e395099b-ed70-4e95-8bbd-4ddd577e9e5f"
      },
      "execution_count": 57,
      "outputs": [
        {
          "output_type": "stream",
          "name": "stdout",
          "text": [
            "Most common Case Disposition for those ordinance violations: Liable\n"
          ]
        }
      ]
    },
    {
      "cell_type": "markdown",
      "source": [
        "**(5)**\n",
        "\n",
        "c) Total number of violation on 9th of October were 22.\n",
        "And most common deposition for those ordinance violations was \"Liable\""
      ],
      "metadata": {
        "id": "a_p2dUbOoZGY"
      }
    },
    {
      "cell_type": "markdown",
      "source": [
        "\n",
        "\n",
        "---\n",
        "\n"
      ],
      "metadata": {
        "id": "EOAJ5QL8ptfi"
      }
    },
    {
      "cell_type": "markdown",
      "source": [
        "**(6)**\n",
        "\n",
        "a) Ward should be considered a categorical variable because:\n",
        "\n",
        "- Definition of Wards:\n",
        "\n",
        "Wards represent specific geographical regions or divisions within a city (in this case, Chicago). Each ward is essentially a label for a region and does not represent a measurable quantity.\n",
        "\n",
        "- Lack of Mathematical Meaning:\n",
        "\n",
        "The numeric values of wards (e.g., 1, 2, 4, etc.) are just identifiers. Arithmetic operations such as addition, subtraction, or averaging do not have any logical or meaningful interpretation for these values.\n",
        "\n",
        "- Categorical Nature:\n",
        "\n",
        "Wards define distinct categories or groups, making them inherently categorical. They are more appropriate for analysis using counts, frequencies, or comparisons between categories rather than mathematical computations."
      ],
      "metadata": {
        "id": "1yNg-PdopuWe"
      }
    },
    {
      "cell_type": "code",
      "source": [
        "correlation = ward_4_data['IMPOSED FINE'].corr(ward_4_data['ADMIN COSTS'])\n",
        "print(f\"Correlation between Imposed Fine and Admin Costs: {correlation:.2f}\")"
      ],
      "metadata": {
        "colab": {
          "base_uri": "https://localhost:8080/",
          "height": 0
        },
        "id": "gqFzjyLnqmtd",
        "outputId": "625f2cdf-9b59-49fb-df01-4fc0fd05716f"
      },
      "execution_count": 58,
      "outputs": [
        {
          "output_type": "stream",
          "name": "stdout",
          "text": [
            "Correlation between Imposed Fine and Admin Costs: 0.28\n"
          ]
        }
      ]
    },
    {
      "cell_type": "markdown",
      "source": [
        "**(6)**\n",
        "\n",
        "b) The correlation value between Imposed Fine and Admin Costs is 0.28, which indicates a weak positive correlation. Since the correlation is close to 0 and less than 0.3, the strength of the relationship is weak. This suggests that other factors might influence the admin costs apart from the imposed fine."
      ],
      "metadata": {
        "id": "wSOKHPQjq6xG"
      }
    },
    {
      "cell_type": "code",
      "source": [
        "most_common_street_type = ward_4_data['STREET TYPE'].mode()[0]\n",
        "street_type_count = ward_4_data['STREET TYPE'].value_counts()[most_common_street_type]\n",
        "\n",
        "print(f\"The most common street type in Ward 4 is: {most_common_street_type}\")\n",
        "print(f\"It appears {street_type_count} times in the dataset.\")"
      ],
      "metadata": {
        "colab": {
          "base_uri": "https://localhost:8080/",
          "height": 0
        },
        "id": "t6dJa_yPrIb5",
        "outputId": "f2934f4d-953f-4571-836a-2c0a7f125b1a"
      },
      "execution_count": 59,
      "outputs": [
        {
          "output_type": "stream",
          "name": "stdout",
          "text": [
            "The most common street type in Ward 4 is: AVE\n",
            "It appears 4968 times in the dataset.\n"
          ]
        }
      ]
    },
    {
      "cell_type": "markdown",
      "source": [
        "**(6)**\n",
        "\n",
        "c) The most common street type in Ward 4 is AVE as it appears 4968 times in the dataset. It is not the same street where I live, as I live at the Washington Street."
      ],
      "metadata": {
        "id": "691-a44prdQq"
      }
    },
    {
      "cell_type": "code",
      "source": [
        "unique_violation_descriptions = ward_4_data['VIOLATION DESCRIPTION'].nunique()\n",
        "unique_violation_codes = ward_4_data['VIOLATION CODE'].nunique()\n",
        "\n",
        "print(f\"Number of unique Violation Description values: {unique_violation_descriptions}\")\n",
        "print(f\"Number of unique Violation Code values: {unique_violation_codes}\")"
      ],
      "metadata": {
        "colab": {
          "base_uri": "https://localhost:8080/",
          "height": 0
        },
        "id": "zAMMbXVRsKGo",
        "outputId": "0cf02211-8f1c-4625-e5af-3200c70a9f60"
      },
      "execution_count": 60,
      "outputs": [
        {
          "output_type": "stream",
          "name": "stdout",
          "text": [
            "Number of unique Violation Description values: 475\n",
            "Number of unique Violation Code values: 475\n"
          ]
        }
      ]
    },
    {
      "cell_type": "markdown",
      "source": [
        "**(6)**\n",
        "\n",
        "d) There are 475 unique Violation Description values and 475 unique Violation Code values"
      ],
      "metadata": {
        "id": "cwzT4XfTsTGK"
      }
    },
    {
      "cell_type": "markdown",
      "source": [
        "\n",
        "\n",
        "---\n",
        "\n"
      ],
      "metadata": {
        "id": "ipoVUxoPswNF"
      }
    },
    {
      "cell_type": "code",
      "source": [
        "ward_4_data['HEARING DATE'] = pd.to_datetime(ward_4_data['HEARING DATE'], errors='coerce')\n",
        "ward_4_data['HEARING YEAR'] = ward_4_data['HEARING DATE'].dt.year\n",
        "\n",
        "yearly_avg_fine = ward_4_data.groupby('HEARING YEAR')['IMPOSED FINE'].mean().reset_index()\n",
        "yearly_avg_fine.columns = ['Year', 'Average Imposed Fine']\n",
        "\n",
        "print(\"Average Imposed Fine by Year:\")\n",
        "print(yearly_avg_fine)"
      ],
      "metadata": {
        "colab": {
          "base_uri": "https://localhost:8080/",
          "height": 0
        },
        "id": "oMOfm2NJsxef",
        "outputId": "396430b7-4519-4c59-8b85-782b1c56d3c5"
      },
      "execution_count": 61,
      "outputs": [
        {
          "output_type": "stream",
          "name": "stdout",
          "text": [
            "Average Imposed Fine by Year:\n",
            "    Year  Average Imposed Fine\n",
            "0   2008           1256.662804\n",
            "1   2009            707.455429\n",
            "2   2010            615.069284\n",
            "3   2011            571.921922\n",
            "4   2012            611.607143\n",
            "5   2013            464.125561\n",
            "6   2014            496.466431\n",
            "7   2015           1397.936210\n",
            "8   2016            593.055556\n",
            "9   2017            392.031524\n",
            "10  2018            331.803279\n",
            "11  2019            515.283843\n",
            "12  2020            319.083969\n",
            "13  2021            429.975430\n",
            "14  2022            855.268390\n",
            "15  2023            593.493151\n",
            "16  2024            555.555556\n"
          ]
        },
        {
          "output_type": "stream",
          "name": "stderr",
          "text": [
            "<ipython-input-61-3e8fa988a802>:1: SettingWithCopyWarning: \n",
            "A value is trying to be set on a copy of a slice from a DataFrame.\n",
            "Try using .loc[row_indexer,col_indexer] = value instead\n",
            "\n",
            "See the caveats in the documentation: https://pandas.pydata.org/pandas-docs/stable/user_guide/indexing.html#returning-a-view-versus-a-copy\n",
            "  ward_4_data['HEARING DATE'] = pd.to_datetime(ward_4_data['HEARING DATE'], errors='coerce')\n",
            "<ipython-input-61-3e8fa988a802>:2: SettingWithCopyWarning: \n",
            "A value is trying to be set on a copy of a slice from a DataFrame.\n",
            "Try using .loc[row_indexer,col_indexer] = value instead\n",
            "\n",
            "See the caveats in the documentation: https://pandas.pydata.org/pandas-docs/stable/user_guide/indexing.html#returning-a-view-versus-a-copy\n",
            "  ward_4_data['HEARING YEAR'] = ward_4_data['HEARING DATE'].dt.year\n"
          ]
        }
      ]
    },
    {
      "cell_type": "markdown",
      "source": [
        "**(7)**\n",
        "\n",
        "SHowing the averages by each year"
      ],
      "metadata": {
        "id": "rOQvbCyMuBsi"
      }
    },
    {
      "cell_type": "code",
      "source": [
        "data_2024 = ward_4_data[ward_4_data['HEARING YEAR'] == 2024]\n",
        "print(f\"\\nNumber of records for 2024: {data_2024.shape[0]}\")\n"
      ],
      "metadata": {
        "colab": {
          "base_uri": "https://localhost:8080/",
          "height": 0
        },
        "id": "Y5aSS12_uF93",
        "outputId": "644703c6-7e26-44dc-b2f1-b25504a0fa69"
      },
      "execution_count": 62,
      "outputs": [
        {
          "output_type": "stream",
          "name": "stdout",
          "text": [
            "\n",
            "Number of records for 2024: 171\n"
          ]
        }
      ]
    },
    {
      "cell_type": "code",
      "source": [
        "print(\"Minimum and Maximum Hearing Dates:\")\n",
        "print(ward_4_data['HEARING DATE'].min())\n",
        "print(ward_4_data['HEARING DATE'].max())"
      ],
      "metadata": {
        "colab": {
          "base_uri": "https://localhost:8080/",
          "height": 0
        },
        "id": "XfEx5ljXveXv",
        "outputId": "ca084dfa-c015-463c-93f6-b797a69e8688"
      },
      "execution_count": 63,
      "outputs": [
        {
          "output_type": "stream",
          "name": "stdout",
          "text": [
            "Minimum and Maximum Hearing Dates:\n",
            "2008-01-16 00:00:00\n",
            "2024-05-16 00:00:00\n"
          ]
        }
      ]
    },
    {
      "cell_type": "markdown",
      "source": [
        "**(7)**\n",
        "\n",
        "a)\n",
        "\n",
        "\n",
        "Here, as we can see that the maximum records we have are until May 2024.\n",
        "As we do not have records for entire 2024, the Average fine is less compared to other years' records."
      ],
      "metadata": {
        "id": "4YASvyvyvy_v"
      }
    },
    {
      "cell_type": "markdown",
      "source": [
        "\n",
        "\n",
        "---\n",
        "\n"
      ],
      "metadata": {
        "id": "rPkPeGf_zlz3"
      }
    },
    {
      "cell_type": "code",
      "source": [
        "ward_4_data = ward_4_data.drop(columns=['ID', 'DOCKET NUMBER'])\n",
        "print(\"Columns removed successfully. Updated dataframe columns:\")\n",
        "print(ward_4_data.columns)"
      ],
      "metadata": {
        "colab": {
          "base_uri": "https://localhost:8080/",
          "height": 0
        },
        "id": "14D9YvwzznLh",
        "outputId": "ab0967ee-8182-4c20-9125-16b8dc83d0d7"
      },
      "execution_count": 64,
      "outputs": [
        {
          "output_type": "stream",
          "name": "stdout",
          "text": [
            "Columns removed successfully. Updated dataframe columns:\n",
            "Index(['NOV NUMBER', 'ADDRESS', 'STREET NUMBER', 'STREET DIRECTION',\n",
            "       'STREET NAME', 'STREET TYPE', 'WARD', 'ISSUING DEPARTMENT',\n",
            "       'HEARING DATE', 'CASE DISPOSITION', 'IMPOSED FINE', 'ADMIN COSTS',\n",
            "       'LAST MODIFIED DATE', 'VIOLATION DATE', 'VIOLATION CODE',\n",
            "       'VIOLATION DESCRIPTION', 'RESPONDENTS', 'LATITUDE', 'LONGITUDE',\n",
            "       'LOCATION', 'CityDelay', 'HEARING YEAR'],\n",
            "      dtype='object')\n"
          ]
        }
      ]
    },
    {
      "cell_type": "markdown",
      "source": [
        "**(8)**\n",
        "\n",
        "Removed the ID and DOCKET NUMBER columns"
      ],
      "metadata": {
        "id": "ih3ADsS4MmSE"
      }
    },
    {
      "cell_type": "markdown",
      "source": [
        "\n",
        "\n",
        "---\n",
        "\n"
      ],
      "metadata": {
        "id": "Ef9cYr3DMkfK"
      }
    },
    {
      "cell_type": "code",
      "source": [
        "ward_4_data['VIOLATION DATE'] = pd.to_datetime(ward_4_data['VIOLATION DATE'], errors='coerce')"
      ],
      "metadata": {
        "id": "o0OqJ16yOyfe"
      },
      "execution_count": 65,
      "outputs": []
    },
    {
      "cell_type": "code",
      "source": [
        "quarter_to_season = {1: 'Winter', 2: 'Spring', 3: 'Summer', 4: 'Fall'}\n",
        "ward_4_data['Season'] = ward_4_data['VIOLATION DATE'].dt.quarter.map(quarter_to_season)\n",
        "print(\"Season column added successfully:\")\n",
        "ward_4_data[['VIOLATION DATE', 'Season']].head()"
      ],
      "metadata": {
        "colab": {
          "base_uri": "https://localhost:8080/",
          "height": 224
        },
        "id": "YU9I0Y-KOz_t",
        "outputId": "c4f4a2aa-2e2e-4a8f-8300-63db063846de"
      },
      "execution_count": 66,
      "outputs": [
        {
          "output_type": "stream",
          "name": "stdout",
          "text": [
            "Season column added successfully:\n"
          ]
        },
        {
          "output_type": "execute_result",
          "data": {
            "text/plain": [
              "         VIOLATION DATE  Season\n",
              "9   2022-10-12 00:00:00    Fall\n",
              "91  2022-10-12 00:00:00    Fall\n",
              "311 2022-05-05 09:00:00  Spring\n",
              "320 2022-05-05 09:00:00  Spring\n",
              "342 2022-05-05 09:00:00  Spring"
            ],
            "text/html": [
              "\n",
              "  <div id=\"df-5432f4d4-1196-4ea0-8005-3dcf2a04af47\" class=\"colab-df-container\">\n",
              "    <div>\n",
              "<style scoped>\n",
              "    .dataframe tbody tr th:only-of-type {\n",
              "        vertical-align: middle;\n",
              "    }\n",
              "\n",
              "    .dataframe tbody tr th {\n",
              "        vertical-align: top;\n",
              "    }\n",
              "\n",
              "    .dataframe thead th {\n",
              "        text-align: right;\n",
              "    }\n",
              "</style>\n",
              "<table border=\"1\" class=\"dataframe\">\n",
              "  <thead>\n",
              "    <tr style=\"text-align: right;\">\n",
              "      <th></th>\n",
              "      <th>VIOLATION DATE</th>\n",
              "      <th>Season</th>\n",
              "    </tr>\n",
              "  </thead>\n",
              "  <tbody>\n",
              "    <tr>\n",
              "      <th>9</th>\n",
              "      <td>2022-10-12 00:00:00</td>\n",
              "      <td>Fall</td>\n",
              "    </tr>\n",
              "    <tr>\n",
              "      <th>91</th>\n",
              "      <td>2022-10-12 00:00:00</td>\n",
              "      <td>Fall</td>\n",
              "    </tr>\n",
              "    <tr>\n",
              "      <th>311</th>\n",
              "      <td>2022-05-05 09:00:00</td>\n",
              "      <td>Spring</td>\n",
              "    </tr>\n",
              "    <tr>\n",
              "      <th>320</th>\n",
              "      <td>2022-05-05 09:00:00</td>\n",
              "      <td>Spring</td>\n",
              "    </tr>\n",
              "    <tr>\n",
              "      <th>342</th>\n",
              "      <td>2022-05-05 09:00:00</td>\n",
              "      <td>Spring</td>\n",
              "    </tr>\n",
              "  </tbody>\n",
              "</table>\n",
              "</div>\n",
              "    <div class=\"colab-df-buttons\">\n",
              "\n",
              "  <div class=\"colab-df-container\">\n",
              "    <button class=\"colab-df-convert\" onclick=\"convertToInteractive('df-5432f4d4-1196-4ea0-8005-3dcf2a04af47')\"\n",
              "            title=\"Convert this dataframe to an interactive table.\"\n",
              "            style=\"display:none;\">\n",
              "\n",
              "  <svg xmlns=\"http://www.w3.org/2000/svg\" height=\"24px\" viewBox=\"0 -960 960 960\">\n",
              "    <path d=\"M120-120v-720h720v720H120Zm60-500h600v-160H180v160Zm220 220h160v-160H400v160Zm0 220h160v-160H400v160ZM180-400h160v-160H180v160Zm440 0h160v-160H620v160ZM180-180h160v-160H180v160Zm440 0h160v-160H620v160Z\"/>\n",
              "  </svg>\n",
              "    </button>\n",
              "\n",
              "  <style>\n",
              "    .colab-df-container {\n",
              "      display:flex;\n",
              "      gap: 12px;\n",
              "    }\n",
              "\n",
              "    .colab-df-convert {\n",
              "      background-color: #E8F0FE;\n",
              "      border: none;\n",
              "      border-radius: 50%;\n",
              "      cursor: pointer;\n",
              "      display: none;\n",
              "      fill: #1967D2;\n",
              "      height: 32px;\n",
              "      padding: 0 0 0 0;\n",
              "      width: 32px;\n",
              "    }\n",
              "\n",
              "    .colab-df-convert:hover {\n",
              "      background-color: #E2EBFA;\n",
              "      box-shadow: 0px 1px 2px rgba(60, 64, 67, 0.3), 0px 1px 3px 1px rgba(60, 64, 67, 0.15);\n",
              "      fill: #174EA6;\n",
              "    }\n",
              "\n",
              "    .colab-df-buttons div {\n",
              "      margin-bottom: 4px;\n",
              "    }\n",
              "\n",
              "    [theme=dark] .colab-df-convert {\n",
              "      background-color: #3B4455;\n",
              "      fill: #D2E3FC;\n",
              "    }\n",
              "\n",
              "    [theme=dark] .colab-df-convert:hover {\n",
              "      background-color: #434B5C;\n",
              "      box-shadow: 0px 1px 3px 1px rgba(0, 0, 0, 0.15);\n",
              "      filter: drop-shadow(0px 1px 2px rgba(0, 0, 0, 0.3));\n",
              "      fill: #FFFFFF;\n",
              "    }\n",
              "  </style>\n",
              "\n",
              "    <script>\n",
              "      const buttonEl =\n",
              "        document.querySelector('#df-5432f4d4-1196-4ea0-8005-3dcf2a04af47 button.colab-df-convert');\n",
              "      buttonEl.style.display =\n",
              "        google.colab.kernel.accessAllowed ? 'block' : 'none';\n",
              "\n",
              "      async function convertToInteractive(key) {\n",
              "        const element = document.querySelector('#df-5432f4d4-1196-4ea0-8005-3dcf2a04af47');\n",
              "        const dataTable =\n",
              "          await google.colab.kernel.invokeFunction('convertToInteractive',\n",
              "                                                    [key], {});\n",
              "        if (!dataTable) return;\n",
              "\n",
              "        const docLinkHtml = 'Like what you see? Visit the ' +\n",
              "          '<a target=\"_blank\" href=https://colab.research.google.com/notebooks/data_table.ipynb>data table notebook</a>'\n",
              "          + ' to learn more about interactive tables.';\n",
              "        element.innerHTML = '';\n",
              "        dataTable['output_type'] = 'display_data';\n",
              "        await google.colab.output.renderOutput(dataTable, element);\n",
              "        const docLink = document.createElement('div');\n",
              "        docLink.innerHTML = docLinkHtml;\n",
              "        element.appendChild(docLink);\n",
              "      }\n",
              "    </script>\n",
              "  </div>\n",
              "\n",
              "\n",
              "<div id=\"df-ce73b6ac-595f-4f23-98a0-14879052fb89\">\n",
              "  <button class=\"colab-df-quickchart\" onclick=\"quickchart('df-ce73b6ac-595f-4f23-98a0-14879052fb89')\"\n",
              "            title=\"Suggest charts\"\n",
              "            style=\"display:none;\">\n",
              "\n",
              "<svg xmlns=\"http://www.w3.org/2000/svg\" height=\"24px\"viewBox=\"0 0 24 24\"\n",
              "     width=\"24px\">\n",
              "    <g>\n",
              "        <path d=\"M19 3H5c-1.1 0-2 .9-2 2v14c0 1.1.9 2 2 2h14c1.1 0 2-.9 2-2V5c0-1.1-.9-2-2-2zM9 17H7v-7h2v7zm4 0h-2V7h2v10zm4 0h-2v-4h2v4z\"/>\n",
              "    </g>\n",
              "</svg>\n",
              "  </button>\n",
              "\n",
              "<style>\n",
              "  .colab-df-quickchart {\n",
              "      --bg-color: #E8F0FE;\n",
              "      --fill-color: #1967D2;\n",
              "      --hover-bg-color: #E2EBFA;\n",
              "      --hover-fill-color: #174EA6;\n",
              "      --disabled-fill-color: #AAA;\n",
              "      --disabled-bg-color: #DDD;\n",
              "  }\n",
              "\n",
              "  [theme=dark] .colab-df-quickchart {\n",
              "      --bg-color: #3B4455;\n",
              "      --fill-color: #D2E3FC;\n",
              "      --hover-bg-color: #434B5C;\n",
              "      --hover-fill-color: #FFFFFF;\n",
              "      --disabled-bg-color: #3B4455;\n",
              "      --disabled-fill-color: #666;\n",
              "  }\n",
              "\n",
              "  .colab-df-quickchart {\n",
              "    background-color: var(--bg-color);\n",
              "    border: none;\n",
              "    border-radius: 50%;\n",
              "    cursor: pointer;\n",
              "    display: none;\n",
              "    fill: var(--fill-color);\n",
              "    height: 32px;\n",
              "    padding: 0;\n",
              "    width: 32px;\n",
              "  }\n",
              "\n",
              "  .colab-df-quickchart:hover {\n",
              "    background-color: var(--hover-bg-color);\n",
              "    box-shadow: 0 1px 2px rgba(60, 64, 67, 0.3), 0 1px 3px 1px rgba(60, 64, 67, 0.15);\n",
              "    fill: var(--button-hover-fill-color);\n",
              "  }\n",
              "\n",
              "  .colab-df-quickchart-complete:disabled,\n",
              "  .colab-df-quickchart-complete:disabled:hover {\n",
              "    background-color: var(--disabled-bg-color);\n",
              "    fill: var(--disabled-fill-color);\n",
              "    box-shadow: none;\n",
              "  }\n",
              "\n",
              "  .colab-df-spinner {\n",
              "    border: 2px solid var(--fill-color);\n",
              "    border-color: transparent;\n",
              "    border-bottom-color: var(--fill-color);\n",
              "    animation:\n",
              "      spin 1s steps(1) infinite;\n",
              "  }\n",
              "\n",
              "  @keyframes spin {\n",
              "    0% {\n",
              "      border-color: transparent;\n",
              "      border-bottom-color: var(--fill-color);\n",
              "      border-left-color: var(--fill-color);\n",
              "    }\n",
              "    20% {\n",
              "      border-color: transparent;\n",
              "      border-left-color: var(--fill-color);\n",
              "      border-top-color: var(--fill-color);\n",
              "    }\n",
              "    30% {\n",
              "      border-color: transparent;\n",
              "      border-left-color: var(--fill-color);\n",
              "      border-top-color: var(--fill-color);\n",
              "      border-right-color: var(--fill-color);\n",
              "    }\n",
              "    40% {\n",
              "      border-color: transparent;\n",
              "      border-right-color: var(--fill-color);\n",
              "      border-top-color: var(--fill-color);\n",
              "    }\n",
              "    60% {\n",
              "      border-color: transparent;\n",
              "      border-right-color: var(--fill-color);\n",
              "    }\n",
              "    80% {\n",
              "      border-color: transparent;\n",
              "      border-right-color: var(--fill-color);\n",
              "      border-bottom-color: var(--fill-color);\n",
              "    }\n",
              "    90% {\n",
              "      border-color: transparent;\n",
              "      border-bottom-color: var(--fill-color);\n",
              "    }\n",
              "  }\n",
              "</style>\n",
              "\n",
              "  <script>\n",
              "    async function quickchart(key) {\n",
              "      const quickchartButtonEl =\n",
              "        document.querySelector('#' + key + ' button');\n",
              "      quickchartButtonEl.disabled = true;  // To prevent multiple clicks.\n",
              "      quickchartButtonEl.classList.add('colab-df-spinner');\n",
              "      try {\n",
              "        const charts = await google.colab.kernel.invokeFunction(\n",
              "            'suggestCharts', [key], {});\n",
              "      } catch (error) {\n",
              "        console.error('Error during call to suggestCharts:', error);\n",
              "      }\n",
              "      quickchartButtonEl.classList.remove('colab-df-spinner');\n",
              "      quickchartButtonEl.classList.add('colab-df-quickchart-complete');\n",
              "    }\n",
              "    (() => {\n",
              "      let quickchartButtonEl =\n",
              "        document.querySelector('#df-ce73b6ac-595f-4f23-98a0-14879052fb89 button');\n",
              "      quickchartButtonEl.style.display =\n",
              "        google.colab.kernel.accessAllowed ? 'block' : 'none';\n",
              "    })();\n",
              "  </script>\n",
              "</div>\n",
              "\n",
              "    </div>\n",
              "  </div>\n"
            ],
            "application/vnd.google.colaboratory.intrinsic+json": {
              "type": "dataframe",
              "summary": "{\n  \"name\": \"ward_4_data[['VIOLATION DATE', 'Season']]\",\n  \"rows\": 5,\n  \"fields\": [\n    {\n      \"column\": \"VIOLATION DATE\",\n      \"properties\": {\n        \"dtype\": \"date\",\n        \"min\": \"2022-05-05 09:00:00\",\n        \"max\": \"2022-10-12 00:00:00\",\n        \"num_unique_values\": 2,\n        \"samples\": [\n          \"2022-05-05 09:00:00\",\n          \"2022-10-12 00:00:00\"\n        ],\n        \"semantic_type\": \"\",\n        \"description\": \"\"\n      }\n    },\n    {\n      \"column\": \"Season\",\n      \"properties\": {\n        \"dtype\": \"category\",\n        \"num_unique_values\": 2,\n        \"samples\": [\n          \"Spring\",\n          \"Fall\"\n        ],\n        \"semantic_type\": \"\",\n        \"description\": \"\"\n      }\n    }\n  ]\n}"
            }
          },
          "metadata": {},
          "execution_count": 66
        }
      ]
    },
    {
      "cell_type": "markdown",
      "source": [
        "**(9)**\n",
        "\n",
        "Season column added and renamed the quarters as per the required seasons. I called the head of the dataset to check the change made."
      ],
      "metadata": {
        "id": "VfgshIdFO-gf"
      }
    },
    {
      "cell_type": "markdown",
      "source": [
        "\n",
        "\n",
        "---\n",
        "\n"
      ],
      "metadata": {
        "id": "LinCzUWZPR4M"
      }
    },
    {
      "cell_type": "code",
      "source": [
        "season_counts = ward_4_data['Season'].value_counts()\n",
        "plt.figure(figsize=(8, 6))\n",
        "season_counts.plot(kind='bar', color='skyblue')\n",
        "plt.title('Counts of Building Violations by Season', fontsize=16)\n",
        "plt.xlabel('Season', fontsize=14)\n",
        "plt.ylabel('Number of Violations', fontsize=14)\n",
        "plt.xticks(rotation=0, fontsize=12)\n",
        "plt.yticks(fontsize=12)\n",
        "\n",
        "plt.show()\n"
      ],
      "metadata": {
        "colab": {
          "base_uri": "https://localhost:8080/",
          "height": 575
        },
        "id": "SSiWdtGkPRU2",
        "outputId": "7f5903fa-a472-4185-904f-f3b1694e333b"
      },
      "execution_count": 67,
      "outputs": [
        {
          "output_type": "display_data",
          "data": {
            "text/plain": [
              "<Figure size 800x600 with 1 Axes>"
            ],
            "image/png": "[encoded data removed]"
          },
          "metadata": {}
        }
      ]
    },
    {
      "cell_type": "markdown",
      "source": [
        "**(10)**\n",
        "\n",
        "a)\n",
        "\n",
        "1. Winter (Highest Violations):\n",
        "\n",
        "- I think Harsh weather during Winter might lead to more structural issues or safety violations being noticed or reported.\n",
        "- Also there could be increased inspections during Winter, possibly due to safety concerns during colder months.\n",
        "\n",
        "2. Fall (Lowest Violations):\n",
        "\n",
        "- I guess Fall might see fewer construction or maintenance activities, resulting in fewer violations.\n",
        "- Many properties might already be repaired or inspected earlier, reducing violations.\n",
        "\n",
        "3. Spring and Summer (Moderate Counts):\n",
        "\n",
        "- these seasons are often associated with construction and maintenance activities, which could lead to moderate numbers of violations being reported.\n",
        "- Also Municipalities might conduct regular inspections during these active months, leading to consistent counts.\n"
      ],
      "metadata": {
        "id": "FcPq0ELWQdrv"
      }
    },
    {
      "cell_type": "markdown",
      "source": [
        "\n",
        "\n",
        "---\n",
        "\n"
      ],
      "metadata": {
        "id": "C2KeO4RtRDfs"
      }
    },
    {
      "cell_type": "markdown",
      "source": [
        "**(11)**\n",
        "\n",
        "Filtering Dataset again"
      ],
      "metadata": {
        "id": "n5kPDW9wREDA"
      }
    },
    {
      "cell_type": "code",
      "source": [
        "top_5_dispositions = ward_4_data['CASE DISPOSITION'].value_counts().nlargest(5).index\n",
        "filtered_data = ward_4_data[ward_4_data['CASE DISPOSITION'].isin(top_5_dispositions)]\n",
        "\n",
        "print(f\"The filtered dataset contains {filtered_data.shape[0]} rows.\")\n",
        "print(\"Top 5 Case Dispositions:\")\n",
        "print(filtered_data['CASE DISPOSITION'].value_counts())"
      ],
      "metadata": {
        "colab": {
          "base_uri": "https://localhost:8080/",
          "height": 0
        },
        "id": "trh4bE10RNs-",
        "outputId": "ad3abe53-d82d-4d0b-9e0f-0cc9a2c0a73f"
      },
      "execution_count": 68,
      "outputs": [
        {
          "output_type": "stream",
          "name": "stdout",
          "text": [
            "The filtered dataset contains 9837 rows.\n",
            "Top 5 Case Dispositions:\n",
            "CASE DISPOSITION\n",
            "Non-Suit       3874\n",
            "Liable         3104\n",
            "Not Liable     1352\n",
            "Default        1016\n",
            "Continuance     491\n",
            "Name: count, dtype: int64\n"
          ]
        }
      ]
    },
    {
      "cell_type": "markdown",
      "source": [
        "**(11)**\n",
        "\n",
        "a) Now the filtered dataset contains 9837 rows."
      ],
      "metadata": {
        "id": "tywIjGttRj7V"
      }
    },
    {
      "cell_type": "code",
      "source": [
        "filtered_data_no_outliers = filtered_data[filtered_data['CityDelay'] <= 500]\n",
        "\n",
        "plt.figure(figsize=(10, 6))\n",
        "plt.hist(filtered_data_no_outliers['CityDelay'], bins=30, color='skyblue', edgecolor='black')\n",
        "plt.title('Histogram of CityDelay (Filtered for Outliers)', fontsize=16)\n",
        "plt.xlabel('CityDelay (Days)', fontsize=14)\n",
        "plt.ylabel('Frequency', fontsize=14)\n",
        "plt.xticks(fontsize=12)\n",
        "plt.yticks(fontsize=12)\n",
        "\n",
        "plt.show()\n"
      ],
      "metadata": {
        "colab": {
          "base_uri": "https://localhost:8080/",
          "height": 575
        },
        "id": "0uCBai71R1LY",
        "outputId": "0aff1ef2-b677-4393-c44e-548dc168d6c9"
      },
      "execution_count": 69,
      "outputs": [
        {
          "output_type": "display_data",
          "data": {
            "text/plain": [
              "<Figure size 1000x600 with 1 Axes>"
            ],
            "image/png": "[encoded data removed]"
          },
          "metadata": {}
        }
      ]
    },
    {
      "cell_type": "markdown",
      "source": [
        "**(11)**\n",
        "\n",
        "b) As seen above, I excluded outliers by capping CityDelay values (e.g., consider delays less than 500 days). Then generated the histograms depicting CityDelays."
      ],
      "metadata": {
        "id": "D3wCEI3LSH0C"
      }
    },
    {
      "cell_type": "markdown",
      "source": [
        "**(11)**\n",
        "\n",
        "c) Observations:\n",
        "\n",
        "1. Peak Around 100 Days:\n",
        "\n",
        "- The most frequent CityDelay is around 100 days. This could indicate a common administrative processing time for scheduling hearings after a violation occurs.\n",
        "\n",
        "2. Gradual Decline Beyond 100 Days:\n",
        "\n",
        "- The frequency decreases steadily for delays longer than 100 days.\n",
        "- Longer delays might occur due to rescheduling, case complexity, or backlogs in the system.\n",
        "\n",
        "3. Small Negative CityDelay Values:\n",
        "\n",
        "- There are a few negative values for CityDelay. This might mean data entry errors or situations where the hearing date was recorded incorrectly as occurring before the violation date.\n",
        "\n",
        "4. Right-Skewed Tail (Delays > 250 Days):\n",
        "\n",
        "- Some violations experience delays up to 500 days, though these are less common. This could result from rare cases involving legal complexities, appeals, or rescheduling issues."
      ],
      "metadata": {
        "id": "nJlMMouvSztR"
      }
    },
    {
      "cell_type": "markdown",
      "source": [
        "\n",
        "\n",
        "---\n",
        "\n"
      ],
      "metadata": {
        "id": "CJxd2N_xTaEQ"
      }
    },
    {
      "cell_type": "markdown",
      "source": [
        "**(12)**"
      ],
      "metadata": {
        "id": "y6htDlrtTaxm"
      }
    },
    {
      "cell_type": "markdown",
      "source": [
        "For this, first we will Calculate the average imposed fine for each Case Disposition"
      ],
      "metadata": {
        "id": "pF83SvsV--x-"
      }
    },
    {
      "cell_type": "code",
      "source": [
        "avg_fine_per_disposition = filtered_data.groupby('CASE DISPOSITION')['IMPOSED FINE'].mean().sort_values()"
      ],
      "metadata": {
        "id": "E2LhTa_l_W-m"
      },
      "execution_count": 70,
      "outputs": []
    },
    {
      "cell_type": "markdown",
      "source": [
        "Now making the plot"
      ],
      "metadata": {
        "id": "9x5c6QtW_aPL"
      }
    },
    {
      "cell_type": "code",
      "source": [
        "plt.figure(figsize=(10, 6))\n",
        "avg_fine_per_disposition.plot(kind='bar', color='lightcoral', edgecolor='black')\n",
        "\n",
        "plt.title('Average Imposed Fine by Case Disposition', fontsize=16)\n",
        "plt.xlabel('Case Disposition', fontsize=14)\n",
        "plt.ylabel('Average Imposed Fine', fontsize=14)\n",
        "plt.xticks(rotation=45, fontsize=12)\n",
        "plt.yticks(fontsize=12)\n",
        "plt.yscale('log')\n",
        "plt.show()"
      ],
      "metadata": {
        "colab": {
          "base_uri": "https://localhost:8080/",
          "height": 644
        },
        "id": "O_TfAZog_b0l",
        "outputId": "9e152e04-2f9a-4a6b-f45c-a405ba857576"
      },
      "execution_count": 81,
      "outputs": [
        {
          "output_type": "display_data",
          "data": {
            "text/plain": [
              "<Figure size 1000x600 with 1 Axes>"
            ],
            "image/png": "[encoded data removed]"
          },
          "metadata": {}
        }
      ]
    },
    {
      "cell_type": "markdown",
      "source": [
        "**(12)**\n",
        "\n",
        "(a)\n",
        "\n",
        "\n",
        "Observation and explanation:-\n",
        "\n",
        "- Default Cases:\n",
        "\n",
        "Cases with a \"Default\" disposition have the highest average imposed fine, significantly exceeding other case dispositions.\n",
        "\n",
        "A \"Default\" disposition likely occurs when the defendant fails to respond or appear in court, leading to the imposition of the highest fines as a penalty for non-compliance.\n",
        "This could reflect stricter consequences for not participating in the legal process.\n",
        "\n",
        "- Liable Cases:\n",
        "\n",
        "Cases with a \"Liable\" disposition show a moderate average fine, much lower than \"Default\" but higher than other categories.\n",
        "\n",
        "Cases where the defendant is found \"Liable\" incur fines as part of the judgment, but these fines are generally less severe than the penalties for \"Default.\"\n",
        "This may represent the standard fine amount when a violation is confirmed.\n",
        "\n",
        "- Non-Suit and \"Not Liable\" Cases:\n",
        "\n",
        "These categories have almost negligible or very low average fines compared to \"Default\" and \"Liable.\"\n",
        "\n",
        "\"Non-Suit\" cases may be dismissed or withdrawn by the plaintiff, resulting in no fines.\n",
        "\"Not Liable\" cases indicate the defendant was not found responsible, which also results in no fines.\n",
        "\n",
        "- Continuance Cases:\n",
        "\n",
        "These cases may involve postponements, and the fines might be delayed, reduced, or not imposed until the case is resolved."
      ],
      "metadata": {
        "id": "uHD68-xHAi9W"
      }
    },
    {
      "cell_type": "markdown",
      "source": [
        "\n",
        "\n",
        "---\n",
        "\n"
      ],
      "metadata": {
        "id": "QSxxmJygBZUq"
      }
    },
    {
      "cell_type": "markdown",
      "source": [
        "**(13)**\n"
      ],
      "metadata": {
        "id": "8Ki8L-qeBaN8"
      }
    },
    {
      "cell_type": "code",
      "source": [
        "plt.figure(figsize=(12, 8))\n",
        "sns.histplot(\n",
        "    data=filtered_data,\n",
        "    x='ADMIN COSTS',\n",
        "    hue='CASE DISPOSITION',\n",
        "    bins=30,\n",
        "    multiple='stack',\n",
        "    palette='Set2',\n",
        "    edgecolor='black'\n",
        ")\n",
        "\n",
        "plt.title('Distribution of Admin Costs by Case Disposition', fontsize=16)\n",
        "plt.xlabel('Admin Costs', fontsize=14)\n",
        "plt.ylabel('Frequency', fontsize=14)\n",
        "plt.xticks(fontsize=12)\n",
        "plt.yticks(fontsize=12)\n",
        "plt.legend(title='Case Disposition', fontsize=12)\n",
        "plt.show()\n"
      ],
      "metadata": {
        "colab": {
          "base_uri": "https://localhost:8080/",
          "height": 764
        },
        "id": "dhpOo3vrCHOj",
        "outputId": "29ad6565-43c4-4ceb-e12f-af5e937ba888"
      },
      "execution_count": 87,
      "outputs": [
        {
          "output_type": "stream",
          "name": "stderr",
          "text": [
            "<ipython-input-87-6350654a5f4b>:17: UserWarning: No artists with labels found to put in legend.  Note that artists whose label start with an underscore are ignored when legend() is called with no argument.\n",
            "  plt.legend(title='Case Disposition', fontsize=12)\n"
          ]
        },
        {
          "output_type": "display_data",
          "data": {
            "text/plain": [
              "<Figure size 1200x800 with 1 Axes>"
            ],
            "image/png": "[encoded data removed]"
          },
          "metadata": {}
        }
      ]
    },
    {
      "cell_type": "markdown",
      "source": [
        "**(13)**\n",
        "\n",
        "a)\n",
        "\n",
        "Observation and Explanation of my plot above:\n",
        "\n",
        "- Dominance of Low Admin Costs:\n",
        "\n",
        "The tallest bar near 0 indicates that the majority of cases incur minimal or no administrative costs. This could reflect cases that are dismissed, resolved quickly, or involve minor violations requiring little processing.\n",
        "\n",
        "- Significant Peaks at Higher Costs:\n",
        "\n",
        "Smaller but noticeable peaks occur around 80-100 admin costs. These likely represent specific case types (e.g., \"Default\" or \"Liable\") where fixed administrative fees are imposed as part of standard penalties.\n",
        "\n",
        "- Variation Across Case Dispositions:\n",
        "\n",
        "The stacked bars show how different Case Dispositions contribute to admin costs. For example, dispositions like \"Default\" might account for a larger share of higher costs, while \"Non-Suit\" or \"Not Liable\" dominate near-zero costs.\n"
      ],
      "metadata": {
        "id": "vhuq1RNsE_HV"
      }
    },
    {
      "cell_type": "markdown",
      "source": [
        "\n",
        "\n",
        "---\n",
        "\n"
      ],
      "metadata": {
        "id": "9f3mOZ2FFgSj"
      }
    },
    {
      "cell_type": "markdown",
      "source": [
        "**(14)**\n",
        "\n",
        "Filtering the dataset again"
      ],
      "metadata": {
        "id": "UV8aIknHFg9U"
      }
    },
    {
      "cell_type": "code",
      "source": [
        "top_5_violations = filtered_data['VIOLATION DESCRIPTION'].value_counts().nlargest(5).index\n",
        "\n",
        "filtered_violations = filtered_data[filtered_data['VIOLATION DESCRIPTION'].isin(top_5_violations)]\n",
        "\n",
        "unique_violation_descriptions = filtered_violations['VIOLATION DESCRIPTION'].unique()\n",
        "\n",
        "print(f\"5 Most Common Violation Descriptions: {list(top_5_violations)}\")\n",
        "print(f\"Unique Violation Descriptions in the filtered dataset: {list(unique_violation_descriptions)}\")\n"
      ],
      "metadata": {
        "colab": {
          "base_uri": "https://localhost:8080/",
          "height": 0
        },
        "id": "Go2dnlgaFkfE",
        "outputId": "063d72f0-6a52-41c6-81fe-a0c29eef9b73"
      },
      "execution_count": 73,
      "outputs": [
        {
          "output_type": "stream",
          "name": "stdout",
          "text": [
            "5 Most Common Violation Descriptions: ['Arrange for inspection of premises. (13-12-100)', 'Failed to complete or to submit required documentation for mandated inspection of a conveyance device in a building located within the Central Business District.  (13-8-030, 18-30-017, 18-30-460, Rules and Regulations for Annual Inspection Certification of Conveyance Devices 1 through 70)', '241001:  Operating or cause to be operating an elevator, moving walk, material lift, stairway chairlift, vertical reciprocating reciprocating conveyor, moveable stage, moveable orchestra floor, platform lift or escalator without a current certificate of compliance posted in the elevator or filed on the premises for other types of conveyances (13-20-110(a) and 18-30-015).', 'Repair exterior wall. (13-196-010, 13-196-530 B)', 'Repair or replace defective or missing members of porch system. (13-196-570)']\n",
            "Unique Violation Descriptions in the filtered dataset: ['Repair or replace defective or missing members of porch system. (13-196-570)', '241001:  Operating or cause to be operating an elevator, moving walk, material lift, stairway chairlift, vertical reciprocating reciprocating conveyor, moveable stage, moveable orchestra floor, platform lift or escalator without a current certificate of compliance posted in the elevator or filed on the premises for other types of conveyances (13-20-110(a) and 18-30-015).', 'Repair exterior wall. (13-196-010, 13-196-530 B)', 'Arrange for inspection of premises. (13-12-100)', 'Failed to complete or to submit required documentation for mandated inspection of a conveyance device in a building located within the Central Business District.  (13-8-030, 18-30-017, 18-30-460, Rules and Regulations for Annual Inspection Certification of Conveyance Devices 1 through 70)']\n"
          ]
        }
      ]
    },
    {
      "cell_type": "markdown",
      "source": [
        "- AFter filtering, the 5 Most Common Violation Descriptions we get are: '\n",
        "\n",
        "'Arrange for inspection of premises. (13-12-100)',\n",
        "\n",
        "'Failed to complete or to submit required documentation for mandated inspection of a conveyance device in a building located within the Central Business District.  (13-8-030, 18-30-017, 18-30-460, Rules and Regulations for Annual Inspection Certification of Conveyance Devices 1 through 70)',\n",
        "\n",
        "'241001:  Operating or cause to be operating an elevator, moving walk, material lift, stairway chairlift, vertical reciprocating reciprocating conveyor, moveable stage, moveable orchestra floor, platform lift or escalator without a current certificate of compliance posted in the elevator or filed on the premises for other types of conveyances (13-20-110(a) and 18-30-015).',\n",
        "\n",
        "'Repair exterior wall. (13-196-010, 13-196-530 B)',\n",
        "\n",
        "'Repair or replace defective or missing members of porch system. (13-196-570)'.\n",
        "\n",
        "\n",
        "- Unique Violation Descriptions in the filtered dataset:\n",
        "\n",
        "'Repair or replace defective or missing members of porch system. (13-196-570)',\n",
        "\n",
        "'241001:  Operating or cause to be operating an elevator, moving walk, material lift, stairway chairlift, vertical reciprocating reciprocating conveyor, moveable stage, moveable orchestra floor, platform lift or escalator without a current certificate of compliance posted in the elevator or filed on the premises for other types of conveyances (13-20-110(a) and 18-30-015).',\n",
        "\n",
        "'Repair exterior wall. (13-196-010, 13-196-530 B)', 'Arrange for inspection of premises. (13-12-100)',\n",
        "\n",
        "'Failed to complete or to submit required documentation for mandated inspection of a conveyance device in a building located within the Central Business District.  (13-8-030, 18-30-017, 18-30-460,\n",
        "\n",
        "Rules and Regulations for Annual Inspection Certification of Conveyance Devices 1 through 70)'"
      ],
      "metadata": {
        "id": "U0F_IEMiF0fa"
      }
    },
    {
      "cell_type": "code",
      "source": [
        "short_labels = {\n",
        "    'Arrange for inspection of premises. (13-12-100)': 'Inspection',\n",
        "\n",
        "    'Failed to complete or to submit required documentation for mandated inspection of a conveyance device in a building located within the Central Business District. (13-8-030, 18-30-017, 18-30-460, Rules and Regulations for Annual Inspection Certification of Conveyance Devices 1 through 70)': 'Documentation',\n",
        "\n",
        "    '241001: Operating or cause to be operating an elevator, moving walk, material lift, stairway chairlift, vertical reciprocating reciprocating conveyor, moveable stage, moveable orchestra floor, platform lift or escalator without a current certificate of compliance posted in the elevator or filed on the premises for other types of conveyances (13-20-110(a) and 18-30-015).': 'Elevator Compliance',\n",
        "\n",
        "    'Repair exterior wall. (13-196-010, 13-196-530 B)': 'Exterior Wall Repair',\n",
        "\n",
        "    'Repair or replace defective or missing members of porch system. (13-196-570)': 'Porch Repair'\n",
        "}\n",
        "\n",
        "\n",
        "def normalize_text(text):\n",
        "    return \" \".join(text.split()).strip()\n",
        "\n",
        "short_labels_normalized = {normalize_text(key): value for key, value in short_labels.items()}\n",
        "\n",
        "filtered_violations['VIOLATION DESCRIPTION'] = (\n",
        "    filtered_violations['VIOLATION DESCRIPTION']\n",
        "    .apply(normalize_text)\n",
        "    .replace(short_labels_normalized)\n",
        ")\n",
        "\n",
        "print(\"Shortened Violation Descriptions:\")\n",
        "print(filtered_violations['VIOLATION DESCRIPTION'].unique())\n"
      ],
      "metadata": {
        "colab": {
          "base_uri": "https://localhost:8080/",
          "height": 0
        },
        "id": "ECw7wQ0CH2ol",
        "outputId": "4bed296d-cddc-45cc-d946-48f3bb355a5c"
      },
      "execution_count": 79,
      "outputs": [
        {
          "output_type": "stream",
          "name": "stdout",
          "text": [
            "Shortened Violation Descriptions:\n",
            "['Porch Repair' 'Elevator Compliance' 'Exterior Wall Repair' 'Inspection'\n",
            " 'Documentation']\n"
          ]
        },
        {
          "output_type": "stream",
          "name": "stderr",
          "text": [
            "<ipython-input-79-e74a76a66548>:19: SettingWithCopyWarning: \n",
            "A value is trying to be set on a copy of a slice from a DataFrame.\n",
            "Try using .loc[row_indexer,col_indexer] = value instead\n",
            "\n",
            "See the caveats in the documentation: https://pandas.pydata.org/pandas-docs/stable/user_guide/indexing.html#returning-a-view-versus-a-copy\n",
            "  filtered_violations['VIOLATION DESCRIPTION'] = (\n"
          ]
        }
      ]
    },
    {
      "cell_type": "markdown",
      "source": [
        "As seen above, we have shortened the descriptions and made them:\n",
        "- 'Porch Repair'\n",
        "- 'Elevator Compliance'\n",
        "- 'Exterior Wall Repair'\n",
        "- 'Inspection'\n",
        "- 'Documentation'"
      ],
      "metadata": {
        "id": "IyRaiKfIKPdD"
      }
    },
    {
      "cell_type": "markdown",
      "source": [
        "\n",
        "\n",
        "---\n",
        "\n"
      ],
      "metadata": {
        "id": "c6TI6fyaKYdP"
      }
    },
    {
      "cell_type": "markdown",
      "source": [
        "**(15)**"
      ],
      "metadata": {
        "id": "OBN7qsjmKZEc"
      }
    },
    {
      "cell_type": "code",
      "source": [
        "mean_fines = filtered_violations.groupby('VIOLATION DESCRIPTION')['IMPOSED FINE'].mean().sort_values()\n",
        "\n",
        "plt.figure(figsize=(10, 6))\n",
        "mean_fines.plot(kind='bar', color='cornflowerblue', edgecolor='black')\n",
        "\n",
        "plt.title('Mean Imposed Fine by Violation Description', fontsize=16)\n",
        "plt.xlabel('Violation Description', fontsize=14)\n",
        "plt.ylabel('Mean Imposed Fine', fontsize=14)\n",
        "plt.xticks(rotation=45, fontsize=12)\n",
        "plt.yticks(fontsize=12)\n",
        "plt.show()\n"
      ],
      "metadata": {
        "colab": {
          "base_uri": "https://localhost:8080/",
          "height": 691
        },
        "id": "32OCE5uuKlOU",
        "outputId": "af907341-22ae-457f-c92f-481419f5dadd"
      },
      "execution_count": 80,
      "outputs": [
        {
          "output_type": "display_data",
          "data": {
            "text/plain": [
              "<Figure size 1000x600 with 1 Axes>"
            ],
            "image/png": "[encoded data removed]"
          },
          "metadata": {}
        }
      ]
    },
    {
      "cell_type": "markdown",
      "source": [
        "**Speculation on Fine Differences:**\n",
        "\n",
        "- Severity of the Violation:\n",
        "\n",
        "Porch Repair and Exterior Wall Repair involve structural safety, which might directly impact the well-being of residents or the public. Fines for such violations are higher as a deterrent and to ensure compliance.\n",
        "\n",
        "\n",
        "- Complexity and Cost of Resolution:\n",
        "\n",
        "Elevator Compliance likely involves significant technical and regulatory requirements, leading to moderately high fines to cover inspection, repair, or certification costs.\n",
        "\n",
        "\n",
        "- Administrative Costs:\n",
        "\n",
        "Violations like Documentation might result from incomplete paperwork or delayed submissions, which are less severe and incur lower fines compared to physical safety issues.\n",
        "\n",
        "\n",
        "- Frequency vs. Impact:\n",
        "\n",
        "Violations like Inspection may occur more frequently but are less severe, leading to lower fines to avoid over-penalizing minor infractions."
      ],
      "metadata": {
        "id": "MRn9DfMVLEm6"
      }
    },
    {
      "cell_type": "markdown",
      "source": [
        "\n",
        "\n",
        "---\n",
        "\n"
      ],
      "metadata": {
        "id": "dfciA-lSLOXY"
      }
    },
    {
      "cell_type": "markdown",
      "source": [
        "**(16)**"
      ],
      "metadata": {
        "id": "IQypcuI4LPRR"
      }
    },
    {
      "cell_type": "markdown",
      "source": [
        "My assignment submission includes the following:\n",
        "\n",
        "(a) A file containing code\n",
        "\n",
        "(b) A write-up in a PDF that clearly includes all of my code, results, and interpretation statements, together"
      ],
      "metadata": {
        "id": "OFFxIQafLbl6"
      }
    },
    {
      "cell_type": "markdown",
      "source": [
        "\n",
        "\n",
        "---\n",
        "\n"
      ],
      "metadata": {
        "id": "h0zbkHkXSMg9"
      }
    }
  ]
}